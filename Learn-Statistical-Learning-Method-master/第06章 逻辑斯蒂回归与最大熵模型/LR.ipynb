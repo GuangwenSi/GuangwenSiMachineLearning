{
  "nbformat": 4,
  "nbformat_minor": 0,
  "metadata": {
    "colab": {
      "name": "LR.ipynb",
      "version": "0.3.2",
      "provenance": [],
      "collapsed_sections": [],
      "toc_visible": true
    },
    "language_info": {
      "codemirror_mode": {
        "name": "ipython",
        "version": 3
      },
      "file_extension": ".py",
      "mimetype": "text/x-python",
      "name": "python",
      "nbconvert_exporter": "python",
      "pygments_lexer": "ipython3",
      "version": "3.6.2"
    },
    "kernelspec": {
      "display_name": "Python 3",
      "language": "python",
      "name": "python3"
    }
  },
  "cells": [
    {
      "cell_type": "markdown",
      "metadata": {
        "id": "yYUS-_TGwgog",
        "colab_type": "text"
      },
      "source": [
        "# 第6章 逻辑斯谛回归"
      ]
    },
    {
      "cell_type": "markdown",
      "metadata": {
        "id": "W8eTMpbCwgoh",
        "colab_type": "text"
      },
      "source": [
        "LR是经典的分类方法"
      ]
    },
    {
      "cell_type": "markdown",
      "metadata": {
        "id": "3vYj6djNwgoi",
        "colab_type": "text"
      },
      "source": [
        "\n",
        "回归模型：$f(x) = \\frac{1}{1+e^{-wx}}$\n",
        "\n",
        "其中wx线性函数：$wx =w_0*x_0 + w_1*x_1 + w_2*x_2 +...+w_n*x_n,(x_0=1)$  \n",
        "分类函数: $h(z)=\\frac{1}{1+e^{-z}}=\\frac{1}{1+e^{-w^{T}x}}$  \n",
        "对于任意确定的x和w,有：  \n",
        "$P(y=1|x,w)=h_{w}(x)  $  \n",
        "$P(y=0|x,w)=1−h_{w}(x)  $  \n",
        "服从伯努利分布： \n",
        "$P(y|x,w)=(h_{w}(x))^{y}(1−h_{w}(x))^{1−y}$  \n",
        "似然函数：  \n",
        "$L(w)=∏_{i=1}^{m}P(y^{(i)}|x^{(i)},w)=∏_{i=1}^{m}(h_{w}(x^{(i)}))^{y^{(i)}}(1−h_{w}(x^{(i)}))^{1−y^{(i)}}$  \n",
        "对数似然函数:  \n",
        "$J(w)=logL(w)=∑_{i=1}^{m}(y^{(i)}logh_{w}(x^{(i)})+(1−y^{(i)})log(1−h_{w}(x^{(i)})))$  \n",
        "训练过程就是求解似然函数最大的w：  梯度上升法。  \n",
        "$w_{j}:=w_{j}+α\\frac{∂J(w)}{∂w_{j}} (j=1,2,3...n)$    \n",
        "我们对J(w)求偏导：  \n",
        "$\\frac{∂}{∂w_{j}}J(w)  =∑_{i=1}^{m}(y^{(i)}\\frac{1}{h_{w}(x^{(i)})}\\frac{∂h_{w}(x^{(i)})}{∂w_{j}}+(1−y^{(i)})\\frac{1}{1+h_{w}(x^{(i)})}\\frac{∂h_{w}(x^{(i)})}{∂w_{j}})\\\\=∑_{i=1}^{m}(y^{(i)}\\frac{1}{h_{w}(x^{(i)})}+(1−y^{(i)})\\frac{1}{1+h_{w}(x^{(i)})})\\frac{∂h_{w}(x^{(i)})}{∂w_{j}}\\\\=∑_{i=1}^{m}(y^{(i)}\\frac{1}{h_{w}(x^{(i)})}+(1−y^{(i)})\\frac{1}{1+h_{w}(x^{(i)})})\\frac{1}{(1+e^{−w^{T}x})^{2}}e^{−w^{T}x}\\frac{∂z(x)}{∂w_{j}}\\\\=∑_{i=1}^{m}(y^{(i)}\\frac{1}{h_{w}(x^{(i)})}+(1−y^{(i)})\\frac{1}{1+h_{w}(x^{(i)})})\\frac{1}{(1+e^{−w^{T}x)}}\\frac{e^{−w^{T}x}}{(1+e^{−w^{T}x})}\\frac{∂z(x)}{∂w_{j}}\\\\=∑_{i=1}^{m}(y^{(i)}\\frac{1}{h_{w}(x^{(i)})}+(1−y^{(i)})\\frac{1}{1+h_{w}(x^{(i)})})h_{w}(x^{(i)})(1+h_{w}(x^{(i)}))\\frac{∂w^{T}x}{∂w_{j}}\\\\=∑_{i=1}^{m}(y^{(i)}(1+h_{w}(x^{(i)}))+(1−y^{(i)})h_{w}(x^{(i)}))x^{(i)}_{j}\\\\=∑_{i=1}^{m}(y(i)−h_{w}(x^{(i)}))x^{(i)}_{j}\n",
        "$  \n",
        "\n",
        "梯度上升法迭代公示：\n",
        "$w_{j}:=w_{j}+α∑_{i=1}^{m}(y^{(i)}−h_{w}(x^{(i)}))x^{(i)}_{j}$"
      ]
    },
    {
      "cell_type": "code",
      "metadata": {
        "id": "RlQPFBq0wgoi",
        "colab_type": "code",
        "colab": {}
      },
      "source": [
        "import numpy as np\n",
        "import pandas as pd\n",
        "import matplotlib.pyplot as plt\n",
        "%matplotlib inline\n",
        "\n",
        "from sklearn.datasets import load_iris\n",
        "from sklearn.model_selection import train_test_split"
      ],
      "execution_count": 0,
      "outputs": []
    },
    {
      "cell_type": "code",
      "metadata": {
        "id": "wNcm9Canwgom",
        "colab_type": "code",
        "colab": {}
      },
      "source": [
        "# data\n",
        "def create_data():\n",
        "    iris = load_iris()\n",
        "    df = pd.DataFrame(iris.data, columns=iris.feature_names)\n",
        "    df['label'] = iris.target\n",
        "    df.columns = ['sepal length', 'sepal width', 'petal length', 'petal width', 'label']\n",
        "    data = np.array(df.iloc[:100, [0,1,-1]])\n",
        "    # print(data)\n",
        "    return data[:,:2], data[:,-1]"
      ],
      "execution_count": 0,
      "outputs": []
    },
    {
      "cell_type": "code",
      "metadata": {
        "id": "L1lyUS_iwgoo",
        "colab_type": "code",
        "colab": {}
      },
      "source": [
        "X, y = create_data()\n",
        "X_train, X_test, y_train, y_test = train_test_split(X, y, test_size=0.3)"
      ],
      "execution_count": 0,
      "outputs": []
    },
    {
      "cell_type": "code",
      "metadata": {
        "id": "X_cxtXPv2ddJ",
        "colab_type": "code",
        "outputId": "3a22b490-77f1-4f79-b1ca-c012883b16ac",
        "colab": {
          "base_uri": "https://localhost:8080/",
          "height": 107
        }
      },
      "source": [
        "X_train[:5]"
      ],
      "execution_count": 82,
      "outputs": [
        {
          "output_type": "execute_result",
          "data": {
            "text/plain": [
              "array([[5.2, 3.5],\n",
              "       [4.7, 3.2],\n",
              "       [6.9, 3.1],\n",
              "       [5.4, 3.4],\n",
              "       [6.3, 3.3]])"
            ]
          },
          "metadata": {
            "tags": []
          },
          "execution_count": 82
        }
      ]
    },
    {
      "cell_type": "code",
      "metadata": {
        "id": "cjfYWfgG2iY4",
        "colab_type": "code",
        "outputId": "510d457c-bcd0-4eec-e196-7e660ece4ecd",
        "colab": {
          "base_uri": "https://localhost:8080/",
          "height": 35
        }
      },
      "source": [
        "y[:5]"
      ],
      "execution_count": 83,
      "outputs": [
        {
          "output_type": "execute_result",
          "data": {
            "text/plain": [
              "array([0., 0., 0., 0., 0.])"
            ]
          },
          "metadata": {
            "tags": []
          },
          "execution_count": 83
        }
      ]
    },
    {
      "cell_type": "code",
      "metadata": {
        "id": "fKehxH1crBYT",
        "colab_type": "code",
        "colab": {}
      },
      "source": [
        "class LogisticReressionClassifier:\n",
        "    def __init__(self, max_iter=200, learning_rate=0.01):\n",
        "        self.max_iter = max_iter\n",
        "        self.learning_rate = learning_rate\n",
        "        \n",
        "    def sigmoid(self, x):\n",
        "        return 1 / (1 + np.exp(-x))\n",
        "    \n",
        "    def fit(self, X, y):\n",
        "        X = np.hstack((np.ones((X.shape[0],1)),X))\n",
        "        self.weights = np.zeros((X.shape[1], 1))\n",
        "        y = np.expand_dims(y, axis=1)\n",
        "        \n",
        "        for iter_ in range(self.max_iter):\n",
        "            h = self.sigmoid(np.dot(X, self.weights))\n",
        "            error = y - h\n",
        "            self.weights = self.weights + self.learning_rate * np.dot(X.T, error)\n",
        "            \n",
        "    def predict(self, x):\n",
        "        x = np.hstack((np.ones((x.shape[0],1)),x))\n",
        "        pred = self.sigmoid(np.dot(x, self.weights))\n",
        "        if pred > 0:\n",
        "            return 1\n",
        "        else:\n",
        "            return 0\n",
        "    \n",
        "    def score(self, X_test, y_test):\n",
        "        right = 0\n",
        "        X_test = np.hstack((np.ones((X_test.shape[0],1)),X_test))\n",
        "        res = np.dot(X_test, self.weights)\n",
        "        for (result, y) in zip(res, y_test):\n",
        "            if (result > 0 and y == 1) or (result < 0 and y == 0):\n",
        "                right += 1\n",
        "        return right / len(X_test)"
      ],
      "execution_count": 0,
      "outputs": []
    },
    {
      "cell_type": "code",
      "metadata": {
        "id": "0fIAts8nwgot",
        "colab_type": "code",
        "colab": {}
      },
      "source": [
        "lr_clf = LogisticReressionClassifier()\n",
        "lr_clf.fit(X_train, y_train)"
      ],
      "execution_count": 0,
      "outputs": []
    },
    {
      "cell_type": "code",
      "metadata": {
        "id": "pZUAiAlQwgoy",
        "colab_type": "code",
        "outputId": "d1676da1-6fe1-48f6-d42b-c4c306b14b93",
        "colab": {
          "base_uri": "https://localhost:8080/",
          "height": 35
        }
      },
      "source": [
        "lr_clf.score(X_test, y_test)"
      ],
      "execution_count": 89,
      "outputs": [
        {
          "output_type": "execute_result",
          "data": {
            "text/plain": [
              "1.0"
            ]
          },
          "metadata": {
            "tags": []
          },
          "execution_count": 89
        }
      ]
    },
    {
      "cell_type": "code",
      "metadata": {
        "id": "eSp_TMsFwgo2",
        "colab_type": "code",
        "outputId": "5dcd88a3-bb03-41ac-e7ee-94b0cea44c2e",
        "colab": {
          "base_uri": "https://localhost:8080/",
          "height": 287
        }
      },
      "source": [
        "x_ponits = np.arange(4, 8)\n",
        "y_ = -(lr_clf.weights[1]*x_ponits + lr_clf.weights[0])/lr_clf.weights[2]\n",
        "plt.plot(x_ponits, y_)\n",
        "\n",
        "#lr_clf.show_graph()\n",
        "plt.scatter(X[:50,0],X[:50,1], label='0')\n",
        "plt.scatter(X[50:,0],X[50:,1], label='1')\n",
        "plt.legend()"
      ],
      "execution_count": 90,
      "outputs": [
        {
          "output_type": "execute_result",
          "data": {
            "text/plain": [
              "<matplotlib.legend.Legend at 0x7f464b26a588>"
            ]
          },
          "metadata": {
            "tags": []
          },
          "execution_count": 90
        },
        {
          "output_type": "display_data",
          "data": {
            "image/png": "[encoded data removed]",
            "text/plain": [
              "<Figure size 432x288 with 1 Axes>"
            ]
          },
          "metadata": {
            "tags": []
          }
        }
      ]
    },
    {
      "cell_type": "markdown",
      "metadata": {
        "id": "33BTHkrY2sDj",
        "colab_type": "text"
      },
      "source": [
        "##### 作业"
      ]
    },
    {
      "cell_type": "code",
      "metadata": {
        "id": "f2n8BPac2qT8",
        "colab_type": "code",
        "colab": {}
      },
      "source": [
        "My_X = np.array([[3,3,3],\n",
        "              [4,3,2],\n",
        "              [2,1,2],\n",
        "              [1,1,1],\n",
        "              [-1,0,1],\n",
        "              [2,-2,1]])"
      ],
      "execution_count": 0,
      "outputs": []
    },
    {
      "cell_type": "code",
      "metadata": {
        "id": "hI2xETv73BaD",
        "colab_type": "code",
        "colab": {
          "base_uri": "https://localhost:8080/",
          "height": 35
        },
        "outputId": "7483cda4-0715-4e51-ab18-3776573d4b47"
      },
      "source": [
        "My_X.shape"
      ],
      "execution_count": 92,
      "outputs": [
        {
          "output_type": "execute_result",
          "data": {
            "text/plain": [
              "(6, 3)"
            ]
          },
          "metadata": {
            "tags": []
          },
          "execution_count": 92
        }
      ]
    },
    {
      "cell_type": "code",
      "metadata": {
        "id": "jG0OK50n3DNj",
        "colab_type": "code",
        "colab": {}
      },
      "source": [
        "My_y = np.array([1,1,1,0,0,0])"
      ],
      "execution_count": 0,
      "outputs": []
    },
    {
      "cell_type": "code",
      "metadata": {
        "id": "hZvU2HTM3Kmb",
        "colab_type": "code",
        "colab": {}
      },
      "source": [
        "My_clf = LogisticReressionClassifier()\n",
        "My_clf.fit(My_X, My_y)"
      ],
      "execution_count": 0,
      "outputs": []
    },
    {
      "cell_type": "code",
      "metadata": {
        "id": "7sMdxyTw3RKM",
        "colab_type": "code",
        "colab": {
          "base_uri": "https://localhost:8080/",
          "height": 35
        },
        "outputId": "c2104b89-60fd-489b-9622-c37c5a6dd768"
      },
      "source": [
        "test_point = np.array([1,2,-2])\n",
        "My_clf.predict(np.expand_dims(test_point, axis=0))"
      ],
      "execution_count": 110,
      "outputs": [
        {
          "output_type": "execute_result",
          "data": {
            "text/plain": [
              "1"
            ]
          },
          "metadata": {
            "tags": []
          },
          "execution_count": 110
        }
      ]
    },
    {
      "cell_type": "markdown",
      "metadata": {
        "collapsed": true,
        "id": "eyezi6wCwgo5",
        "colab_type": "text"
      },
      "source": [
        "## sklearn\n",
        "\n",
        "### sklearn.linear_model.LogisticRegression\n",
        "\n",
        "solver参数决定了我们对逻辑回归损失函数的优化方法，有四种算法可以选择，分别是：\n",
        "- a) liblinear：使用了开源的liblinear库实现，内部使用了坐标轴下降法来迭代优化损失函数。\n",
        "- b) lbfgs：拟牛顿法的一种，利用损失函数二阶导数矩阵即海森矩阵来迭代优化损失函数。\n",
        "- c) newton-cg：也是牛顿法家族的一种，利用损失函数二阶导数矩阵即海森矩阵来迭代优化损失函数。\n",
        "- d) sag：即随机平均梯度下降，是梯度下降法的变种，和普通梯度下降法的区别是每次迭代仅仅用一部分的样本来计算梯度，适合于样本数据多的时候。"
      ]
    },
    {
      "cell_type": "code",
      "metadata": {
        "id": "fucfcIUowgo5",
        "colab_type": "code",
        "colab": {}
      },
      "source": [
        "from sklearn.linear_model import LogisticRegression"
      ],
      "execution_count": 0,
      "outputs": []
    },
    {
      "cell_type": "code",
      "metadata": {
        "id": "ES6AI5wdwgo8",
        "colab_type": "code",
        "colab": {}
      },
      "source": [
        "clf = LogisticRegression(max_iter=200)"
      ],
      "execution_count": 0,
      "outputs": []
    },
    {
      "cell_type": "code",
      "metadata": {
        "id": "F1XhyxI2wgo-",
        "colab_type": "code",
        "outputId": "ff8efb48-026d-4c07-ffff-66d73e518630",
        "colab": {}
      },
      "source": [
        "clf.fit(X_train, y_train)"
      ],
      "execution_count": 0,
      "outputs": [
        {
          "output_type": "execute_result",
          "data": {
            "text/plain": [
              "LogisticRegression(C=1.0, class_weight=None, dual=False, fit_intercept=True,\n",
              "          intercept_scaling=1, max_iter=200, multi_class='ovr', n_jobs=1,\n",
              "          penalty='l2', random_state=None, solver='liblinear', tol=0.0001,\n",
              "          verbose=0, warm_start=False)"
            ]
          },
          "metadata": {
            "tags": []
          },
          "execution_count": 10
        }
      ]
    },
    {
      "cell_type": "code",
      "metadata": {
        "id": "5PDQagu0wgpB",
        "colab_type": "code",
        "outputId": "51f58cce-b098-4038-a1cc-fb753132db49",
        "colab": {}
      },
      "source": [
        "clf.score(X_test, y_test)"
      ],
      "execution_count": 0,
      "outputs": [
        {
          "output_type": "execute_result",
          "data": {
            "text/plain": [
              "0.9666666666666667"
            ]
          },
          "metadata": {
            "tags": []
          },
          "execution_count": 11
        }
      ]
    },
    {
      "cell_type": "code",
      "metadata": {
        "id": "5eWQ-dMgwgpE",
        "colab_type": "code",
        "outputId": "caade4c0-a088-4dde-a75b-9a8a1c63b1eb",
        "colab": {}
      },
      "source": [
        "print(clf.coef_, clf.intercept_)"
      ],
      "execution_count": 0,
      "outputs": [
        {
          "output_type": "stream",
          "text": [
            "[[ 1.94474283 -3.29077674]] [-0.53064339]\n"
          ],
          "name": "stdout"
        }
      ]
    },
    {
      "cell_type": "code",
      "metadata": {
        "id": "rOP29ZLMwgpH",
        "colab_type": "code",
        "outputId": "24c023fd-5afb-4cde-fb24-3e5c505484bd",
        "colab": {}
      },
      "source": [
        "x_ponits = np.arange(4, 8)\n",
        "y_ = -(clf.coef_[0][0]*x_ponits + clf.intercept_)/clf.coef_[0][1]\n",
        "plt.plot(x_ponits, y_)\n",
        "\n",
        "plt.plot(X[:50, 0], X[:50, 1], 'bo', color='blue', label='0')\n",
        "plt.plot(X[50:, 0], X[50:, 1], 'bo', color='orange', label='1')\n",
        "plt.xlabel('sepal length')\n",
        "plt.ylabel('sepal width')\n",
        "plt.legend()"
      ],
      "execution_count": 0,
      "outputs": [
        {
          "output_type": "execute_result",
          "data": {
            "text/plain": [
              "<matplotlib.legend.Legend at 0x1499696b710>"
            ]
          },
          "metadata": {
            "tags": []
          },
          "execution_count": 13
        },
        {
          "output_type": "display_data",
          "data": {
            "image/png": "[encoded data removed]",
            "text/plain": [
              "<Figure size 432x288 with 1 Axes>"
            ]
          },
          "metadata": {
            "tags": []
          }
        }
      ]
    },
    {
      "cell_type": "code",
      "metadata": {
        "id": "MNz9NEgH5OXi",
        "colab_type": "code",
        "colab": {
          "base_uri": "https://localhost:8080/",
          "height": 143
        },
        "outputId": "d44ffab4-3864-44c8-9448-26a09ad5c8ff"
      },
      "source": [
        "My_skl = LogisticRegression(max_iter=200)\n",
        "My_skl.fit(My_X, My_y)"
      ],
      "execution_count": 113,
      "outputs": [
        {
          "output_type": "stream",
          "text": [
            "/usr/local/lib/python3.6/dist-packages/sklearn/linear_model/logistic.py:432: FutureWarning: Default solver will be changed to 'lbfgs' in 0.22. Specify a solver to silence this warning.\n",
            "  FutureWarning)\n"
          ],
          "name": "stderr"
        },
        {
          "output_type": "execute_result",
          "data": {
            "text/plain": [
              "LogisticRegression(C=1.0, class_weight=None, dual=False, fit_intercept=True,\n",
              "                   intercept_scaling=1, l1_ratio=None, max_iter=200,\n",
              "                   multi_class='warn', n_jobs=None, penalty='l2',\n",
              "                   random_state=None, solver='warn', tol=0.0001, verbose=0,\n",
              "                   warm_start=False)"
            ]
          },
          "metadata": {
            "tags": []
          },
          "execution_count": 113
        }
      ]
    },
    {
      "cell_type": "code",
      "metadata": {
        "id": "ScD2LyfB5cBa",
        "colab_type": "code",
        "colab": {
          "base_uri": "https://localhost:8080/",
          "height": 35
        },
        "outputId": "4b82f13c-0da1-4c48-d00e-929284bc2478"
      },
      "source": [
        "My_skl.predict(np.array([[1,2,-2]]))"
      ],
      "execution_count": 115,
      "outputs": [
        {
          "output_type": "execute_result",
          "data": {
            "text/plain": [
              "array([1])"
            ]
          },
          "metadata": {
            "tags": []
          },
          "execution_count": 115
        }
      ]
    }
  ]
}