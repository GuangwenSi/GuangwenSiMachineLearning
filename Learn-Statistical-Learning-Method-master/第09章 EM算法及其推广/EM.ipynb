{
  "nbformat": 4,
  "nbformat_minor": 0,
  "metadata": {
    "colab": {
      "name": "EM.ipynb",
      "version": "0.3.2",
      "provenance": [],
      "collapsed_sections": []
    },
    "language_info": {
      "codemirror_mode": {
        "name": "ipython",
        "version": 3
      },
      "file_extension": ".py",
      "mimetype": "text/x-python",
      "name": "python",
      "nbconvert_exporter": "python",
      "pygments_lexer": "ipython3",
      "version": "3.6.2"
    },
    "kernelspec": {
      "display_name": "Python 3",
      "language": "python",
      "name": "python3"
    }
  },
  "cells": [
    {
      "cell_type": "markdown",
      "metadata": {
        "id": "9goLeU8ewzry",
        "colab_type": "text"
      },
      "source": [
        "# 第9章 EM算法及其推广"
      ]
    },
    {
      "cell_type": "markdown",
      "metadata": {
        "id": "lNMPH5Sxwzrz",
        "colab_type": "text"
      },
      "source": [
        "# Expectation Maximization algorithm\n",
        "\n",
        "### Maximum likehood function\n",
        "\n",
        "[likehood & maximum likehood](http://fangs.in/post/thinkstats/likelihood/)\n",
        "\n",
        "> 在统计学中，似然函数（likelihood function，通常简写为likelihood，似然）是一个非常重要的内容，在非正式场合似然和概率（Probability）几乎是一对同义词，但是在统计学中似然和概率却是两个不同的概念。概率是在特定环境下某件事情发生的可能性，也就是结果没有产生之前依据环境所对应的参数来预测某件事情发生的可能性，比如抛硬币，抛之前我们不知道最后是哪一面朝上，但是根据硬币的性质我们可以推测任何一面朝上的可能性均为50%，这个概率只有在抛硬币之前才是有意义的，抛完硬币后的结果便是确定的；而似然刚好相反，是在确定的结果下去推测产生这个结果的可能环境（参数），还是抛硬币的例子，假设我们随机抛掷一枚硬币1,000次，结果500次人头朝上，500次数字朝上（实际情况一般不会这么理想，这里只是举个例子），我们很容易判断这是一枚标准的硬币，两面朝上的概率均为50%，这个过程就是我们运用出现的结果来判断这个事情本身的性质（参数），也就是似然。"
      ]
    },
    {
      "cell_type": "code",
      "metadata": {
        "id": "c3kPBundwzr1",
        "colab_type": "code",
        "colab": {}
      },
      "source": [
        "import numpy as np\n",
        "import math\n",
        "from sklearn.datasets import load_iris\n",
        "import matplotlib as mpl\n",
        "from sklearn.metrics import accuracy_score\n",
        "import matplotlib.pyplot as plt\n",
        "from sklearn.preprocessing import Normalizer"
      ],
      "execution_count": 0,
      "outputs": []
    },
    {
      "cell_type": "markdown",
      "metadata": {
        "id": "bQ_XVWIUzENh",
        "colab_type": "text"
      },
      "source": [
        "### 例9.1"
      ]
    },
    {
      "cell_type": "markdown",
      "metadata": {
        "id": "FQ2DERB3wzr0",
        "colab_type": "text"
      },
      "source": [
        "$$P(Y|\\theta) = \\prod[\\pi p^{y_i}(1-p)^{1-y_i}+(1-\\pi) q^{y_i}(1-q)^{1-y_i}]$$\n",
        "\n",
        "### E step:\n",
        "\n",
        "$$\\mu^{i+1}=\\frac{\\pi (p^i)^{y_i}(1-(p^i))^{1-y_i}}{\\pi (p^i)^{y_i}(1-(p^i))^{1-y_i}+(1-\\pi) (q^i)^{y_i}(1-(q^i))^{1-y_i}}$$"
      ]
    },
    {
      "cell_type": "markdown",
      "metadata": {
        "id": "CB2q29w8wzr6",
        "colab_type": "text"
      },
      "source": [
        "### M step:\n",
        "\n",
        "$$\\pi^{i+1}=\\frac{1}{n}\\sum_{j=1}^n\\mu^{i+1}_j$$\n",
        "\n",
        "$$p^{i+1}=\\frac{\\sum_{j=1}^n\\mu^{i+1}_jy_i}{\\sum_{j=1}^n\\mu^{i+1}_j}$$\n",
        "\n",
        "$$q^{i+1}=\\frac{\\sum_{j=1}^n(1-\\mu^{i+1}_jy_i)}{\\sum_{j=1}^n(1-\\mu^{i+1}_j)}$$"
      ]
    },
    {
      "cell_type": "code",
      "metadata": {
        "id": "fmekpcv0zrjP",
        "colab_type": "code",
        "colab": {}
      },
      "source": [
        "class EM:\n",
        "    def __init__(self, prob):\n",
        "        self.pro_A, self.pro_B, self.pro_C = prob\n",
        "        \n",
        "    # E step\n",
        "    def _pmf(self, i):\n",
        "        pro_1 = self.pro_A * math.pow(self.pro_B, data[i]) * math.pow((1-self.pro_B), 1-data[i])\n",
        "        pro_2 = (1 - self.pro_A) * math.pow(self.pro_C, data[i]) * math.pow((1-self.pro_C), 1-data[i])\n",
        "        return pro_1 / (pro_1 + pro_2)\n",
        "    \n",
        "    # M step\n",
        "    def fit(self, X):\n",
        "        N = len(X)\n",
        "        for d in range(N):\n",
        "            pmf = [self._pmf(k) for k in range(N)]\n",
        "            pro_A = 1/ N * sum(pmf)\n",
        "            pro_B = sum([pmf[k]*X[k] for k in range(N)]) / sum([pmf[k] for k in range(N)])\n",
        "            pro_C = sum([(1-pmf[k])*X[k] for k in range(N)]) / sum([(1-pmf[k]) for k in range(N)])\n",
        "            print('{}/{}  pro_a:{:.3f}, pro_b:{:.3f}, pro_c:{:.3f}'.format(d+1, N, pro_A, pro_B, pro_C))\n",
        "            self.pro_A = pro_A\n",
        "            self.pro_B = pro_B\n",
        "            self.pro_C = pro_C\n",
        "            \n",
        "        return self"
      ],
      "execution_count": 0,
      "outputs": []
    },
    {
      "cell_type": "code",
      "metadata": {
        "id": "bZAJCd4Hwzr9",
        "colab_type": "code",
        "colab": {}
      },
      "source": [
        "data=[1,1,0,1,0,0,1,0,1,1]"
      ],
      "execution_count": 0,
      "outputs": []
    },
    {
      "cell_type": "code",
      "metadata": {
        "id": "gK74hZPYwzr_",
        "colab_type": "code",
        "outputId": "df7dc5bd-1212-4a16-c5c1-fd81abbde98a",
        "colab": {
          "base_uri": "https://localhost:8080/",
          "height": 215
        }
      },
      "source": [
        "em = EM(prob=[0.5, 0.5, 0.5])\n",
        "em.fit(data)"
      ],
      "execution_count": 11,
      "outputs": [
        {
          "output_type": "stream",
          "text": [
            "1/10  pro_a:0.500, pro_b:0.600, pro_c:0.600\n",
            "2/10  pro_a:0.500, pro_b:0.600, pro_c:0.600\n",
            "3/10  pro_a:0.500, pro_b:0.600, pro_c:0.600\n",
            "4/10  pro_a:0.500, pro_b:0.600, pro_c:0.600\n",
            "5/10  pro_a:0.500, pro_b:0.600, pro_c:0.600\n",
            "6/10  pro_a:0.500, pro_b:0.600, pro_c:0.600\n",
            "7/10  pro_a:0.500, pro_b:0.600, pro_c:0.600\n",
            "8/10  pro_a:0.500, pro_b:0.600, pro_c:0.600\n",
            "9/10  pro_a:0.500, pro_b:0.600, pro_c:0.600\n",
            "10/10  pro_a:0.500, pro_b:0.600, pro_c:0.600\n"
          ],
          "name": "stdout"
        },
        {
          "output_type": "execute_result",
          "data": {
            "text/plain": [
              "<__main__.EM at 0x7f5c1938f400>"
            ]
          },
          "metadata": {
            "tags": []
          },
          "execution_count": 11
        }
      ]
    },
    {
      "cell_type": "markdown",
      "metadata": {
        "id": "eTHQ44DP1rm0",
        "colab_type": "text"
      },
      "source": [
        "##### 9.1"
      ]
    },
    {
      "cell_type": "code",
      "metadata": {
        "id": "xzUlweJFwzsM",
        "colab_type": "code",
        "outputId": "2b343bbd-440b-4ad2-923e-3fe3e4fdd2f8",
        "colab": {
          "base_uri": "https://localhost:8080/",
          "height": 215
        }
      },
      "source": [
        "em = EM(prob=[0.46, 0.55, 0.67])\n",
        "em.fit(data)"
      ],
      "execution_count": 12,
      "outputs": [
        {
          "output_type": "stream",
          "text": [
            "1/10  pro_a:0.462, pro_b:0.535, pro_c:0.656\n",
            "2/10  pro_a:0.462, pro_b:0.535, pro_c:0.656\n",
            "3/10  pro_a:0.462, pro_b:0.535, pro_c:0.656\n",
            "4/10  pro_a:0.462, pro_b:0.535, pro_c:0.656\n",
            "5/10  pro_a:0.462, pro_b:0.535, pro_c:0.656\n",
            "6/10  pro_a:0.462, pro_b:0.535, pro_c:0.656\n",
            "7/10  pro_a:0.462, pro_b:0.535, pro_c:0.656\n",
            "8/10  pro_a:0.462, pro_b:0.535, pro_c:0.656\n",
            "9/10  pro_a:0.462, pro_b:0.535, pro_c:0.656\n",
            "10/10  pro_a:0.462, pro_b:0.535, pro_c:0.656\n"
          ],
          "name": "stdout"
        },
        {
          "output_type": "execute_result",
          "data": {
            "text/plain": [
              "<__main__.EM at 0x7f5c1938f208>"
            ]
          },
          "metadata": {
            "tags": []
          },
          "execution_count": 12
        }
      ]
    },
    {
      "cell_type": "markdown",
      "metadata": {
        "id": "Oewoj4r315fN",
        "colab_type": "text"
      },
      "source": [
        "##### 高斯混合模型 GMM"
      ]
    },
    {
      "cell_type": "code",
      "metadata": {
        "id": "_OrYQBcP104s",
        "colab_type": "code",
        "colab": {}
      },
      "source": [
        "class GMM:\n",
        "    def __init__(self, K, weights=None,means=None,covars=None, sigma=0.0000001):\n",
        "        \"\"\"\n",
        "        :K: component\n",
        "        :weigths: init weights\n",
        "        :means: Gaussain mean\n",
        "        :covars: Gaussain covars\n",
        "        \"\"\"\n",
        "        self.K = K\n",
        "        if weights is not None:\n",
        "            self.weights = weights\n",
        "        else:\n",
        "            self.weights = np.random.rand(self.K)\n",
        "            self.weights /= np.sum(self.K) # normlize, to make sure sum = 1\n",
        "        \n",
        "        self.means = means\n",
        "        self.covars = covars\n",
        "        self.sigma = sigma\n",
        "\n",
        "    def _init_param(self, X):\n",
        "        col = X.shape[1]\n",
        "        if self.means is None:\n",
        "            self.means = []\n",
        "            for k in range(self.K):\n",
        "                mean = np.random.rand(col)\n",
        "                self.means.append(mean)\n",
        "                \n",
        "        if self.covars is None:\n",
        "            self.covars = []\n",
        "            for k in range(self.K):\n",
        "                cov = np.random.rand(col, col)\n",
        "                self.covars.append(cov) \n",
        "                \n",
        "    def Gaussian(self, x, mean, cov):\n",
        "        dim = np.shape(cov)[0]\n",
        "        # cov的行列式为零时的措施\n",
        "        covdet = np.linalg.det(cov + np.eye(dim) * 0.01)  #协方差矩阵的行列式\n",
        "        covinv = np.linalg.inv(cov + np.eye(dim) * 0.01)  #协方差矩阵的逆\n",
        "        xdiff = (x - mean).reshape((1,dim))\n",
        "        # 概率密度\n",
        "        prob = 1.0/(np.power(np.power(2*np.pi,dim)*np.abs(covdet),0.5))* np.exp(-0.5*xdiff.dot(covinv).dot(xdiff.T))[0][0]\n",
        "        return prob\n",
        "\n",
        "            \n",
        "    def fit(self, X):\n",
        "        self._init_param(X)\n",
        "        \n",
        "        loglikelyhood = 0.\n",
        "        oldloglikelyhood = 1.\n",
        "        length,dim = np.shape(X) \n",
        "        # gamma表示第n个样本属于第k个混合高斯的概率\n",
        "        gammas = [np.zeros(self.K) for i in range(length)]\n",
        "        while np.abs(loglikelyhood-oldloglikelyhood) > self.sigma:\n",
        "            oldloglikelyhood = loglikelyhood\n",
        "            # E-step\n",
        "            for n in range(length):\n",
        "                # respons是GMM的EM算法中的权重w，即后验概率\n",
        "                respons = [self.weights[k] * self.Gaussian(X[n], self.means[k], self.covars[k])\n",
        "                                                    for k in range(self.K)]\n",
        "                sum_respons = np.sum(respons)\n",
        "                gammas[n] = respons/sum_respons\n",
        "            # M-step\n",
        "            for k in range(self.K):\n",
        "                #nk表示N个样本中有多少属于第k个高斯\n",
        "                nk = np.sum([gammas[n][k] for n in range(length)])\n",
        "                # 更新每个高斯分布的概率\n",
        "                self.weights[k] = 1.0 * nk / length\n",
        "                # 更新高斯分布的均值\n",
        "                self.means[k] = (1.0/nk) * np.sum([gammas[n][k] * X[n] for n in range(length)], axis=0)\n",
        "                xdiffs = X - self.means[k]\n",
        "                # 更新高斯分布的协方差矩阵\n",
        "                self.covars[k] = (1.0/nk)*np.sum([gammas[n][k]*xdiffs[n].reshape((dim,1)).dot(xdiffs[n].reshape((1,dim))) for n in range(length)],axis=0)\n",
        "            loglikelyhood = []\n",
        "            for n in range(length):\n",
        "                tmp = [np.sum(self.weights[k]*self.Gaussian(X[n],self.means[k],self.covars[k])) for k in range(self.K)]\n",
        "                tmp = np.log(np.array(tmp))\n",
        "                loglikelyhood.append(list(tmp))\n",
        "            loglikelyhood = np.sum(loglikelyhood)\n",
        "        \n",
        "        for i in range(length):\n",
        "            gammas[i] = gammas[i]/np.sum(gammas[i])\n",
        "        self.posibility = gammas\n",
        "        self.prediction = [np.argmax(gammas[i]) for i in range(length)]\n",
        "        \n",
        "        return self.weights, self.means, self.covars\n",
        "    \n",
        "#https://blog.csdn.net/qq_30091945/article/details/81134598"
      ],
      "execution_count": 0,
      "outputs": []
    },
    {
      "cell_type": "markdown",
      "metadata": {
        "id": "dKI4zQzcWvir",
        "colab_type": "text"
      },
      "source": [
        "##### 题9.3"
      ]
    },
    {
      "cell_type": "code",
      "metadata": {
        "id": "WBlqxwGJ9Nj8",
        "colab_type": "code",
        "colab": {}
      },
      "source": [
        "data = np.array([-67, -48, 6, 8, 14, 16, 23, 24, 28, 29, 41, 49, 56, 60, 75]).reshape(-1,1)\n",
        "data = Normalizer().fit_transform(data)"
      ],
      "execution_count": 0,
      "outputs": []
    },
    {
      "cell_type": "code",
      "metadata": {
        "id": "g2Www0HJ9hHL",
        "colab_type": "code",
        "colab": {
          "base_uri": "https://localhost:8080/",
          "height": 71
        },
        "outputId": "92ab6596-64d0-46fe-bf40-440977e70f8a"
      },
      "source": [
        "gmm = GMM(K=2)\n",
        "gmm.fit(data)"
      ],
      "execution_count": 130,
      "outputs": [
        {
          "output_type": "execute_result",
          "data": {
            "text/plain": [
              "(array([0.86666667, 0.13333333]),\n",
              " [array([1.]), array([-1.])],\n",
              " [array([[5.53558611e-87]]), array([[5.53558611e-87]])])"
            ]
          },
          "metadata": {
            "tags": []
          },
          "execution_count": 130
        }
      ]
    },
    {
      "cell_type": "markdown",
      "metadata": {
        "id": "FAzKJKu6W2C7",
        "colab_type": "text"
      },
      "source": [
        "##### test"
      ]
    },
    {
      "cell_type": "code",
      "metadata": {
        "id": "19XKdlFhAPnA",
        "colab_type": "code",
        "colab": {
          "base_uri": "https://localhost:8080/",
          "height": 125
        },
        "outputId": "1008307f-c3f2-4073-a937-9fe9a7495d72"
      },
      "source": [
        "# 导入Iris数据集\n",
        "iris = load_iris()\n",
        "label = np.array(iris.target)\n",
        "data = np.array(iris.data)\n",
        "print(\"Iris label：\\n\",label)"
      ],
      "execution_count": 112,
      "outputs": [
        {
          "output_type": "stream",
          "text": [
            "Iris label：\n",
            " [0 0 0 0 0 0 0 0 0 0 0 0 0 0 0 0 0 0 0 0 0 0 0 0 0 0 0 0 0 0 0 0 0 0 0 0 0\n",
            " 0 0 0 0 0 0 0 0 0 0 0 0 0 1 1 1 1 1 1 1 1 1 1 1 1 1 1 1 1 1 1 1 1 1 1 1 1\n",
            " 1 1 1 1 1 1 1 1 1 1 1 1 1 1 1 1 1 1 1 1 1 1 1 1 1 1 2 2 2 2 2 2 2 2 2 2 2\n",
            " 2 2 2 2 2 2 2 2 2 2 2 2 2 2 2 2 2 2 2 2 2 2 2 2 2 2 2 2 2 2 2 2 2 2 2 2 2\n",
            " 2 2]\n"
          ],
          "name": "stdout"
        }
      ]
    },
    {
      "cell_type": "code",
      "metadata": {
        "id": "ghZH6RnpUUP1",
        "colab_type": "code",
        "colab": {
          "base_uri": "https://localhost:8080/",
          "height": 281
        },
        "outputId": "57242957-ccc8-448b-bdf4-9e77e2899b96"
      },
      "source": [
        "# 对数据进行预处理\n",
        "data = Normalizer().fit_transform(data)\n",
        "\n",
        "# 数据可视化\n",
        "plt.scatter(data[:,0],data[:,1],c = label)\n",
        "plt.title(\"Iris\")\n",
        "plt.show()\n"
      ],
      "execution_count": 124,
      "outputs": [
        {
          "output_type": "display_data",
          "data": {
            "image/png": "[encoded data removed]",
            "text/plain": [
              "<Figure size 432x288 with 1 Axes>"
            ]
          },
          "metadata": {
            "tags": []
          }
        }
      ]
    },
    {
      "cell_type": "code",
      "metadata": {
        "id": "Ov1PVnJQUk9L",
        "colab_type": "code",
        "colab": {
          "base_uri": "https://localhost:8080/",
          "height": 373
        },
        "outputId": "8b872c16-a8e7-4d5d-df20-1f289f779de3"
      },
      "source": [
        "# GMM模型\n",
        "K = 3\n",
        "gmm = GMM(K)\n",
        "gmm.fit(data)\n",
        "y_pre = gmm.prediction\n",
        "print(\"GMM预测结果：\\n\",y_pre)\n",
        "print(\"GMM正确率为：\\n\",accuracy_score(label,y_pre))\n",
        "plt.scatter(data[:, 0], data[:, 1], c=y_pre)\n",
        "plt.title(\"GMM\")\n",
        "plt.show()"
      ],
      "execution_count": 125,
      "outputs": [
        {
          "output_type": "stream",
          "text": [
            "GMM预测结果：\n",
            " [0, 0, 0, 0, 0, 0, 0, 0, 0, 0, 0, 0, 0, 0, 0, 0, 0, 0, 0, 0, 0, 0, 0, 0, 0, 0, 0, 0, 0, 0, 0, 0, 0, 0, 0, 0, 0, 0, 0, 0, 0, 0, 0, 0, 0, 0, 0, 0, 0, 0, 1, 1, 1, 1, 1, 1, 1, 1, 1, 1, 1, 1, 1, 1, 1, 1, 1, 1, 1, 1, 1, 1, 1, 1, 1, 1, 1, 1, 1, 1, 1, 1, 1, 1, 1, 1, 1, 1, 1, 1, 1, 1, 1, 1, 1, 1, 1, 1, 1, 1, 1, 1, 1, 1, 1, 1, 1, 1, 1, 1, 1, 1, 1, 1, 1, 1, 1, 1, 1, 1, 1, 1, 1, 1, 1, 1, 1, 1, 1, 1, 1, 1, 1, 1, 1, 1, 1, 1, 1, 1, 1, 1, 1, 1, 1, 1, 1, 1, 1, 1]\n",
            "GMM正确率为：\n",
            " 0.6666666666666666\n"
          ],
          "name": "stdout"
        },
        {
          "output_type": "display_data",
          "data": {
            "image/png": "[encoded data removed]",
            "text/plain": [
              "<Figure size 432x288 with 1 Axes>"
            ]
          },
          "metadata": {
            "tags": []
          }
        }
      ]
    }
  ]
}