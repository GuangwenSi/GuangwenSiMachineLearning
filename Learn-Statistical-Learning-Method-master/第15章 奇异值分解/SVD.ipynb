{
  "nbformat": 4,
  "nbformat_minor": 0,
  "metadata": {
    "colab": {
      "name": "SVD.ipynb",
      "version": "0.3.2",
      "provenance": [],
      "collapsed_sections": []
    },
    "kernelspec": {
      "name": "python3",
      "display_name": "Python 3"
    }
  },
  "cells": [
    {
      "cell_type": "markdown",
      "metadata": {
        "id": "Ipoq5dkUZEI1",
        "colab_type": "text"
      },
      "source": [
        "# Singular Value Decomposition, SVD\n",
        "## 奇异值分解"
      ]
    },
    {
      "cell_type": "markdown",
      "metadata": {
        "id": "149N2eYfZLed",
        "colab_type": "text"
      },
      "source": [
        "任意一个$m$ x $n$ 矩阵，都可以表示为三个矩阵的乘积（因子分解）形式，分别是$m$阶**正交矩阵**，由**降序**排列的**非负**的对角线元素组成的$m$ x $n$ 矩形对角矩阵，和$n$阶**正交矩阵**，称为该矩阵的奇异值分解。矩阵的奇异值分解一定存在，但不唯一。  \n",
        "\n",
        "奇异值分解可以看作是矩阵数据压缩的一种方法，即用因子分解的方式近似地表示原始矩阵，这种近似是在平方损失意义下的最优近似。"
      ]
    },
    {
      "cell_type": "markdown",
      "metadata": {
        "id": "1i4xNylpaWVA",
        "colab_type": "text"
      },
      "source": [
        "矩阵的奇异值分解是指，将一个非零的$m$ x $n$ **实矩阵**$A, A\\in R^{m\\times n}$表示为一下三个实矩阵乘积形式的运算：  \n",
        "$A = U\\Sigma V^{T}$,  \n",
        "其中 $U$ 是 $m$ 阶正交矩阵， $V$ 是 $n$ 阶正交矩阵，$\\Sigma$ 是由降序排列的非负的对角线元素组成的$m$ x $n$矩形对角矩阵。称为$A$ 的奇异值分解。 $U$的列向量称为左奇异向量， $V$的列向量称为右奇异向量。  \n",
        "\n",
        "奇异值分解不要求矩阵$A$ 是方阵，事实上矩阵的奇异值分解可以看作方阵的对角化的推广。  \n",
        "\n",
        "**紧奇奇异值分解**是与原始矩阵等秩的奇异值分解， **截断奇异值分解**是比原始矩阵低秩的奇异值分解。"
      ]
    },
    {
      "cell_type": "markdown",
      "metadata": {
        "id": "uAEFyqLD1Rbp",
        "colab_type": "text"
      },
      "source": [
        "---------------------------------------------------------------------------------------------------------------------------------"
      ]
    },
    {
      "cell_type": "code",
      "metadata": {
        "id": "RaH0xqPcZB94",
        "colab_type": "code",
        "colab": {}
      },
      "source": [
        "# 实现奇异值分解， 输入一个numpy矩阵，输出 U, sigma, V\n",
        "# https://zhuanlan.zhihu.com/p/54693391\n",
        "\n",
        "import numpy as np\n",
        "\n",
        "\n",
        "#基于矩阵分解的结果，复原矩阵\n",
        "def rebuildMatrix(U, sigma, V):\n",
        "    a = np.dot(U, sigma)\n",
        "    a = np.dot(a, np.transpose(V))\n",
        "    return a\n",
        "\n",
        "\n",
        "#基于特征值的大小，对特征值以及特征向量进行排序。倒序排列\n",
        "def sortByEigenValue(Eigenvalues, EigenVectors):\n",
        "    index = np.argsort(-1*Eigenvalues)\n",
        "    Eigenvalues = Eigenvalues[index]\n",
        "    EigenVectors = EigenVectors[:,index]\n",
        "    return Eigenvalues, EigenVectors\n",
        "\n",
        "\n",
        "#对一个矩阵进行奇异值分解\n",
        "def SVD(matrixA, NumOfLeft=None):\n",
        "    #NumOfLeft是要保留的奇异值的个数，也就是中间那个方阵的宽度\n",
        "    #首先求transpose(A)*A\n",
        "    matrixAT_matrixA = np.dot(np.transpose(matrixA), matrixA)\n",
        "    #然后求右奇异向量\n",
        "    lambda_V, X_V = np.linalg.eig(matrixAT_matrixA)\n",
        "    lambda_V, X_V = sortByEigenValue(lambda_V, X_V)\n",
        "    #求奇异值\n",
        "    sigmas = lambda_V\n",
        "    sigmas = list(map(lambda x: np.sqrt(x) if x>0 else 0, sigmas))#python里很小的数有时候是负数\n",
        "    sigmas = np.array(sigmas)\n",
        "    sigmasMatrix = np.diag(sigmas)\n",
        "    if NumOfLeft==None:\n",
        "        rankOfSigmasMatrix = len(list(filter(lambda x: x>0, sigmas)))#大于0的特征值的个数\n",
        "    else:\n",
        "        rankOfSigmasMatrix =NumOfLeft\n",
        "    sigmasMatrix = sigmasMatrix[0:rankOfSigmasMatrix, :]#特征值为0的奇异值就不要了\n",
        "\n",
        "    #计算右奇异向量\n",
        "    X_U = np.zeros((matrixA.shape[0], rankOfSigmasMatrix))#初始化一个右奇异向量矩阵，这里直接进行裁剪\n",
        "    for i in range(rankOfSigmasMatrix):\n",
        "        X_U[:,i] = np.transpose(np.dot(matrixA,X_V[:, i])/sigmas[i])\n",
        "\n",
        "    #对右奇异向量和奇异值矩阵进行裁剪\n",
        "    X_V = X_V[:,0:NumOfLeft]\n",
        "    sigmasMatrix = sigmasMatrix[0:rankOfSigmasMatrix, 0:rankOfSigmasMatrix]\n",
        "    #print(rebuildMatrix(X_U, sigmasMatrix, X_V))\n",
        "    \n",
        "    return X_U, sigmasMatrix, X_V"
      ],
      "execution_count": 0,
      "outputs": []
    },
    {
      "cell_type": "code",
      "metadata": {
        "id": "Hf9KqmH110KX",
        "colab_type": "code",
        "colab": {
          "base_uri": "https://localhost:8080/",
          "height": 143
        },
        "outputId": "56ed2cdc-3f83-45eb-8c16-63881afee5a9"
      },
      "source": [
        "A = np.array([[0, 0, 0, 2, 2], [0, 0, 0, 3, 3], [0, 0, 0, 1, 1], [1, 1, 1, 0, 0],\n",
        "              [2, 2, 2, 0, 0], [5, 5, 5, 0, 0], [1, 1, 1, 0, 0]])\n",
        "\n",
        "A"
      ],
      "execution_count": 6,
      "outputs": [
        {
          "output_type": "execute_result",
          "data": {
            "text/plain": [
              "array([[0, 0, 0, 2, 2],\n",
              "       [0, 0, 0, 3, 3],\n",
              "       [0, 0, 0, 1, 1],\n",
              "       [1, 1, 1, 0, 0],\n",
              "       [2, 2, 2, 0, 0],\n",
              "       [5, 5, 5, 0, 0],\n",
              "       [1, 1, 1, 0, 0]])"
            ]
          },
          "metadata": {
            "tags": []
          },
          "execution_count": 6
        }
      ]
    },
    {
      "cell_type": "code",
      "metadata": {
        "id": "Tmecvggl15Gn",
        "colab_type": "code",
        "colab": {}
      },
      "source": [
        "X_U, sigmasMatrix, X_V = SVD(A, NumOfLeft=3)"
      ],
      "execution_count": 0,
      "outputs": []
    },
    {
      "cell_type": "code",
      "metadata": {
        "id": "r9TbEba32HcQ",
        "colab_type": "code",
        "colab": {
          "base_uri": "https://localhost:8080/",
          "height": 143
        },
        "outputId": "abfa62a2-3ea8-419b-eb08-209afaa5cea1"
      },
      "source": [
        "X_U"
      ],
      "execution_count": 9,
      "outputs": [
        {
          "output_type": "execute_result",
          "data": {
            "text/plain": [
              "array([[0.00000000e+00, 5.34522484e-01, 0.00000000e+00],\n",
              "       [0.00000000e+00, 8.01783726e-01, 0.00000000e+00],\n",
              "       [0.00000000e+00, 2.67261242e-01, 0.00000000e+00],\n",
              "       [1.79605302e-01, 0.00000000e+00, 6.58544508e-10],\n",
              "       [3.59210604e-01, 0.00000000e+00, 1.31708902e-09],\n",
              "       [8.98026510e-01, 0.00000000e+00, 5.26835606e-09],\n",
              "       [1.79605302e-01, 0.00000000e+00, 6.58544508e-10]])"
            ]
          },
          "metadata": {
            "tags": []
          },
          "execution_count": 9
        }
      ]
    },
    {
      "cell_type": "code",
      "metadata": {
        "id": "IoVH0RA32MxA",
        "colab_type": "code",
        "colab": {
          "base_uri": "https://localhost:8080/",
          "height": 71
        },
        "outputId": "4b1ca501-7ce9-4cff-b929-150084bcd2fa"
      },
      "source": [
        "sigmasMatrix"
      ],
      "execution_count": 10,
      "outputs": [
        {
          "output_type": "execute_result",
          "data": {
            "text/plain": [
              "array([[9.64365076e+00, 0.00000000e+00, 0.00000000e+00],\n",
              "       [0.00000000e+00, 5.29150262e+00, 0.00000000e+00],\n",
              "       [0.00000000e+00, 0.00000000e+00, 8.42936970e-08]])"
            ]
          },
          "metadata": {
            "tags": []
          },
          "execution_count": 10
        }
      ]
    },
    {
      "cell_type": "code",
      "metadata": {
        "id": "42ag3hPE2OBa",
        "colab_type": "code",
        "colab": {
          "base_uri": "https://localhost:8080/",
          "height": 107
        },
        "outputId": "8fa214d1-3ec3-456e-8698-72c7e5ea5d8c"
      },
      "source": [
        "X_V"
      ],
      "execution_count": 11,
      "outputs": [
        {
          "output_type": "execute_result",
          "data": {
            "text/plain": [
              "array([[ 0.57735027,  0.        , -0.81649658],\n",
              "       [ 0.57735027,  0.        ,  0.40824829],\n",
              "       [ 0.57735027,  0.        ,  0.40824829],\n",
              "       [ 0.        ,  0.70710678,  0.        ],\n",
              "       [ 0.        ,  0.70710678,  0.        ]])"
            ]
          },
          "metadata": {
            "tags": []
          },
          "execution_count": 11
        }
      ]
    },
    {
      "cell_type": "code",
      "metadata": {
        "id": "1RHUFh0w2O0K",
        "colab_type": "code",
        "colab": {
          "base_uri": "https://localhost:8080/",
          "height": 143
        },
        "outputId": "e6947501-4932-4c53-dee3-25dd38f542de"
      },
      "source": [
        "# rebuild from U, sigma, V\n",
        "\n",
        "rebuildMatrix(X_U, sigmasMatrix, X_V)"
      ],
      "execution_count": 12,
      "outputs": [
        {
          "output_type": "execute_result",
          "data": {
            "text/plain": [
              "array([[0., 0., 0., 2., 2.],\n",
              "       [0., 0., 0., 3., 3.],\n",
              "       [0., 0., 0., 1., 1.],\n",
              "       [1., 1., 1., 0., 0.],\n",
              "       [2., 2., 2., 0., 0.],\n",
              "       [5., 5., 5., 0., 0.],\n",
              "       [1., 1., 1., 0., 0.]])"
            ]
          },
          "metadata": {
            "tags": []
          },
          "execution_count": 12
        }
      ]
    },
    {
      "cell_type": "markdown",
      "metadata": {
        "id": "c7FtRwkh2WlI",
        "colab_type": "text"
      },
      "source": [
        "same as A."
      ]
    },
    {
      "cell_type": "code",
      "metadata": {
        "id": "r_5WIyV33P1H",
        "colab_type": "code",
        "colab": {
          "base_uri": "https://localhost:8080/",
          "height": 321
        },
        "outputId": "ee629ad1-caca-4f8b-8b8b-4ddb7df88824"
      },
      "source": [
        "from PIL import Image\n",
        "import requests\n",
        "from io import BytesIO\n",
        "\n",
        "url = 'https://images.mulberry.com/i/mulberrygroup/RL5792_000N651_L/small-hampstead-deep-amber-small-classic-grain-ayers/small-hampstead-deep-amber-small-classic-grain-ayers?v=3&w=304'\n",
        "response = requests.get(url)\n",
        "img = Image.open(BytesIO(response.content));img"
      ],
      "execution_count": 51,
      "outputs": [
        {
          "output_type": "execute_result",
          "data": {
            "image/png": "[encoded data removed]",
            "text/plain": [
              "<PIL.JpegImagePlugin.JpegImageFile image mode=RGB size=304x304 at 0x7FDF5E855F60>"
            ]
          },
          "metadata": {
            "tags": []
          },
          "execution_count": 51
        }
      ]
    }
  ]
}