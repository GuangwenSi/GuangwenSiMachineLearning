{
  "nbformat": 4,
  "nbformat_minor": 0,
  "metadata": {
    "colab": {
      "name": "Adaboost.ipynb",
      "version": "0.3.2",
      "provenance": [],
      "collapsed_sections": []
    },
    "language_info": {
      "codemirror_mode": {
        "name": "ipython",
        "version": 3
      },
      "file_extension": ".py",
      "mimetype": "text/x-python",
      "name": "python",
      "nbconvert_exporter": "python",
      "pygments_lexer": "ipython3",
      "version": "3.6.2"
    },
    "kernelspec": {
      "display_name": "Python 3",
      "language": "python",
      "name": "python3"
    }
  },
  "cells": [
    {
      "cell_type": "markdown",
      "metadata": {
        "id": "CGJ1QiK3cnzN",
        "colab_type": "text"
      },
      "source": [
        "# 第8章 提升方法"
      ]
    },
    {
      "cell_type": "markdown",
      "metadata": {
        "collapsed": true,
        "id": "v_MmENfgcnzN",
        "colab_type": "text"
      },
      "source": [
        "# Boost\n",
        "\n",
        "“装袋”（bagging）和“提升”（boost）是构建组合模型的两种最主要的方法，所谓的组合模型是由多个基本模型构成的模型，组合模型的预测效果往往比任意一个基本模型的效果都要好。\n",
        "\n",
        "- 装袋：每个基本模型由从总体样本中随机抽样得到的不同数据集进行训练得到，通过重抽样得到不同训练数据集的过程称为装袋。\n",
        "\n",
        "- 提升：每个基本模型训练时的数据集采用不同权重，针对上一个基本模型分类错误的样本增加权重，使得新的模型重点关注误分类样本\n",
        "\n",
        "### AdaBoost\n",
        "\n",
        "AdaBoost是AdaptiveBoost的缩写，表明该算法是具有适应性的提升算法。\n",
        "\n",
        "算法的步骤如下：\n",
        "\n",
        "1）给每个训练样本（$x_{1},x_{2},….,x_{N}$）分配权重，初始权重$w_{1}$均为1/N。\n",
        "\n",
        "2）针对带有权值的样本进行训练，得到模型$G_m$（初始模型为G1）。\n",
        "\n",
        "3）计算模型$G_m$的误分率$e_m=\\sum_{i=1}^Nw_iI(y_i\\not= G_m(x_i))$\n",
        "\n",
        "4）计算模型$G_m$的系数$\\alpha_m=0.5\\log[(1-e_m)/e_m]$\n",
        "\n",
        "5）根据误分率e和当前权重向量$w_m$更新权重向量$w_{m+1}$。\n",
        "\n",
        "6）计算组合模型$f(x)=\\sum_{m=1}^M\\alpha_mG_m(x_i)$的误分率。\n",
        "\n",
        "7）当组合模型的误分率或迭代次数低于一定阈值，停止迭代；否则，回到步骤2）"
      ]
    },
    {
      "cell_type": "code",
      "metadata": {
        "id": "WkmYWWexcnzO",
        "colab_type": "code",
        "colab": {}
      },
      "source": [
        "import numpy as np\n",
        "import pandas as pd\n",
        "from sklearn.datasets import load_iris\n",
        "from sklearn.tree import DecisionTreeClassifier\n",
        "from sklearn.model_selection  import train_test_split\n",
        "import matplotlib.pyplot as plt\n",
        "%matplotlib inline"
      ],
      "execution_count": 0,
      "outputs": []
    },
    {
      "cell_type": "code",
      "metadata": {
        "id": "kWFOcuTKcnzR",
        "colab_type": "code",
        "colab": {}
      },
      "source": [
        "# data\n",
        "def create_data():\n",
        "    iris = load_iris()\n",
        "    df = pd.DataFrame(iris.data, columns=iris.feature_names)\n",
        "    df['label'] = iris.target\n",
        "    df.columns = ['sepal length', 'sepal width', 'petal length', 'petal width', 'label']\n",
        "    data = np.array(df.iloc[:100, [0, 1, -1]])\n",
        "    for i in range(len(data)):\n",
        "        if data[i,-1] == 0:\n",
        "            data[i,-1] = -1\n",
        "    # print(data)\n",
        "    return data[:,:2], data[:,-1]"
      ],
      "execution_count": 0,
      "outputs": []
    },
    {
      "cell_type": "code",
      "metadata": {
        "id": "uk2Mg38UcnzT",
        "colab_type": "code",
        "colab": {}
      },
      "source": [
        "X, y = create_data()\n",
        "X_train, X_test, y_train, y_test = train_test_split(X, y, test_size=0.2)"
      ],
      "execution_count": 0,
      "outputs": []
    },
    {
      "cell_type": "code",
      "metadata": {
        "id": "FNCiiDMycnzW",
        "colab_type": "code",
        "outputId": "abb8a27d-9db0-449e-e78e-b019f70c2586",
        "colab": {
          "base_uri": "https://localhost:8080/",
          "height": 287
        }
      },
      "source": [
        "plt.scatter(X[:50,0],X[:50,1], label='0')\n",
        "plt.scatter(X[50:,0],X[50:,1], label='1')\n",
        "plt.legend()"
      ],
      "execution_count": 8,
      "outputs": [
        {
          "output_type": "execute_result",
          "data": {
            "text/plain": [
              "<matplotlib.legend.Legend at 0x7ff301ceac50>"
            ]
          },
          "metadata": {
            "tags": []
          },
          "execution_count": 8
        },
        {
          "output_type": "display_data",
          "data": {
            "image/png": "[encoded data removed]",
            "text/plain": [
              "<Figure size 432x288 with 1 Axes>"
            ]
          },
          "metadata": {
            "tags": []
          }
        }
      ]
    },
    {
      "cell_type": "code",
      "metadata": {
        "id": "9AlbKsaNhY-J",
        "colab_type": "code",
        "colab": {}
      },
      "source": [
        "# weak classifier\n",
        "weak_cla = DecisionTreeClassifier(max_depth=1)"
      ],
      "execution_count": 0,
      "outputs": []
    },
    {
      "cell_type": "code",
      "metadata": {
        "id": "AS7dimPwhp2r",
        "colab_type": "code",
        "colab": {
          "base_uri": "https://localhost:8080/",
          "height": 125
        },
        "outputId": "3f3c28e2-7fa9-437f-db5c-da74f6acb084"
      },
      "source": [
        "# fit\n",
        "weak_cla.fit(X_train, y_train)"
      ],
      "execution_count": 46,
      "outputs": [
        {
          "output_type": "execute_result",
          "data": {
            "text/plain": [
              "DecisionTreeClassifier(class_weight=None, criterion='gini', max_depth=1,\n",
              "                       max_features=None, max_leaf_nodes=None,\n",
              "                       min_impurity_decrease=0.0, min_impurity_split=None,\n",
              "                       min_samples_leaf=1, min_samples_split=2,\n",
              "                       min_weight_fraction_leaf=0.0, presort=False,\n",
              "                       random_state=None, splitter='best')"
            ]
          },
          "metadata": {
            "tags": []
          },
          "execution_count": 46
        }
      ]
    },
    {
      "cell_type": "code",
      "metadata": {
        "id": "xOWWIY5ph00J",
        "colab_type": "code",
        "colab": {
          "base_uri": "https://localhost:8080/",
          "height": 35
        },
        "outputId": "088e2e42-4db2-46e7-e76f-d7b2d048327c"
      },
      "source": [
        "weak_cla_accuracy = weak_cla.score(X_test, y_test);weak_cla_accuracy"
      ],
      "execution_count": 47,
      "outputs": [
        {
          "output_type": "execute_result",
          "data": {
            "text/plain": [
              "0.85"
            ]
          },
          "metadata": {
            "tags": []
          },
          "execution_count": 47
        }
      ]
    },
    {
      "cell_type": "markdown",
      "metadata": {
        "id": "9ezbeV0Tcnza",
        "colab_type": "text"
      },
      "source": [
        "----\n",
        "\n",
        "### AdaBoost\n",
        "算法 8.1"
      ]
    },
    {
      "cell_type": "code",
      "metadata": {
        "id": "5Ftb2TtQcnzb",
        "colab_type": "code",
        "colab": {}
      },
      "source": [
        "class AdaBoost:\n",
        "    def __init__(self, n_estimators=100):\n",
        "        self.clf_num = n_estimators\n",
        "    \n",
        "    def init_args(self, X, y):\n",
        "        \n",
        "        self.X = X\n",
        "        self.y = y\n",
        "        M, _ = X.shape\n",
        "        \n",
        "        self.models = []\n",
        "        self.alphas = []\n",
        "        self.weights = np.ones(M) / M # 1\n",
        "    \n",
        "    def fit(self, X, y):\n",
        "        self.init_args(X, y)\n",
        "        \n",
        "        for n in range(self.clf_num):\n",
        "            cla = DecisionTreeClassifier(max_depth=1) # weak cla\n",
        "            cla.fit(X, y, sample_weight=self.weights) # 2(a)\n",
        "            P = cla.predict(X) \n",
        "            \n",
        "            err = self.weights.dot(P != y) # 2(b) 8.1\n",
        "            alpha = 0.5*(np.log(1 - err) - np.log(err)) # 2(c) 8.2\n",
        "            \n",
        "            self.weights = self.weights * np.exp(-alpha * y * P)\n",
        "            self.weights = self.weights / self.weights.sum() # 2(d) 8.3, 8.4, 8.5\n",
        "            \n",
        "            self.models.append(cla)\n",
        "            self.alphas.append(alpha)\n",
        "            \n",
        "        return 'Done!'\n",
        "    \n",
        "    def predict(self, x):\n",
        "        N, _ = x.shape\n",
        "        FX = np.zeros(N)\n",
        "        \n",
        "        for alpha, cla in zip(self.alphas, self.models):\n",
        "            FX += alpha * cla.predict(x)\n",
        "\n",
        "        return np.sign(FX)\n",
        "    \n",
        "    def score(self, X_test, y_test):\n",
        "        p = self.predict(X_test)\n",
        "        r = np.sum(p == y_test)\n",
        "        \n",
        "        return r/len(X_test)\n",
        "    \n",
        "    def _weights(self):\n",
        "        return self.alphas, self.weights, self.models"
      ],
      "execution_count": 0,
      "outputs": []
    },
    {
      "cell_type": "code",
      "metadata": {
        "id": "onbrb8Xsr5DE",
        "colab_type": "code",
        "colab": {}
      },
      "source": [
        "adaboost = AdaBoost()"
      ],
      "execution_count": 0,
      "outputs": []
    },
    {
      "cell_type": "code",
      "metadata": {
        "id": "kae_0imhr-Ld",
        "colab_type": "code",
        "colab": {
          "base_uri": "https://localhost:8080/",
          "height": 35
        },
        "outputId": "e6dc8e11-3ede-4ead-e35a-1ba25b26e056"
      },
      "source": [
        "adaboost.fit(X_train, y_train)"
      ],
      "execution_count": 112,
      "outputs": [
        {
          "output_type": "execute_result",
          "data": {
            "text/plain": [
              "'Done!'"
            ]
          },
          "metadata": {
            "tags": []
          },
          "execution_count": 112
        }
      ]
    },
    {
      "cell_type": "code",
      "metadata": {
        "id": "bhWzbeAEsl64",
        "colab_type": "code",
        "colab": {
          "base_uri": "https://localhost:8080/",
          "height": 35
        },
        "outputId": "0944a671-36b0-4347-9da4-271ce20315be"
      },
      "source": [
        "adaboost.score(X_test, y_test)"
      ],
      "execution_count": 113,
      "outputs": [
        {
          "output_type": "execute_result",
          "data": {
            "text/plain": [
              "1.0"
            ]
          },
          "metadata": {
            "tags": []
          },
          "execution_count": 113
        }
      ]
    },
    {
      "cell_type": "markdown",
      "metadata": {
        "id": "VQhHJ_rDcnzd",
        "colab_type": "text"
      },
      "source": [
        "### 例8.1"
      ]
    },
    {
      "cell_type": "code",
      "metadata": {
        "id": "qEKxLH3Hcnzd",
        "colab_type": "code",
        "colab": {}
      },
      "source": [
        "X_ = np.arange(10).reshape(10, 1)\n",
        "y_ = np.array([1, 1, 1, -1, -1, -1, 1, 1, 1, -1])"
      ],
      "execution_count": 0,
      "outputs": []
    },
    {
      "cell_type": "code",
      "metadata": {
        "id": "iGr8lCCicnzg",
        "colab_type": "code",
        "colab": {
          "base_uri": "https://localhost:8080/",
          "height": 35
        },
        "outputId": "c1bffec1-902d-4076-e4f4-0318b9acfddd"
      },
      "source": [
        "clf = AdaBoost()\n",
        "clf.fit(X_, y_)"
      ],
      "execution_count": 115,
      "outputs": [
        {
          "output_type": "execute_result",
          "data": {
            "text/plain": [
              "'Done!'"
            ]
          },
          "metadata": {
            "tags": []
          },
          "execution_count": 115
        }
      ]
    },
    {
      "cell_type": "markdown",
      "metadata": {
        "id": "YTbvHicmcnzq",
        "colab_type": "text"
      },
      "source": [
        "-----\n",
        "# sklearn.ensemble.AdaBoostClassifier\n",
        "\n",
        "- algorithm：这个参数只有AdaBoostClassifier有。主要原因是scikit-learn实现了两种Adaboost分类算法，SAMME和SAMME.R。两者的主要区别是弱学习器权重的度量，SAMME使用了和我们的原理篇里二元分类Adaboost算法的扩展，即用对样本集分类效果作为弱学习器权重，而SAMME.R使用了对样本集分类的预测概率大小来作为弱学习器权重。由于SAMME.R使用了概率度量的连续值，迭代一般比SAMME快，因此AdaBoostClassifier的默认算法algorithm的值也是SAMME.R。我们一般使用默认的SAMME.R就够了，但是要注意的是使用了SAMME.R， 则弱分类学习器参数base_estimator必须限制使用支持概率预测的分类器。SAMME算法则没有这个限制。\n",
        "\n",
        "- n_estimators： AdaBoostClassifier和AdaBoostRegressor都有，就是我们的弱学习器的最大迭代次数，或者说最大的弱学习器的个数。一般来说n_estimators太小，容易欠拟合，n_estimators太大，又容易过拟合，一般选择一个适中的数值。默认是50。在实际调参的过程中，我们常常将n_estimators和下面介绍的参数learning_rate一起考虑。\n",
        "\n",
        "-  learning_rate:  AdaBoostClassifier和AdaBoostRegressor都有，即每个弱学习器的权重缩减系数ν\n",
        "\n",
        "- base_estimator：AdaBoostClassifier和AdaBoostRegressor都有，即我们的弱分类学习器或者弱回归学习器。理论上可以选择任何一个分类或者回归学习器，不过需要支持样本权重。我们常用的一般是CART决策树或者神经网络MLP。"
      ]
    },
    {
      "cell_type": "code",
      "metadata": {
        "id": "CGLto18Ycnzr",
        "colab_type": "code",
        "outputId": "4c41d66b-b820-4dda-a212-9d18db023e1b",
        "colab": {
          "base_uri": "https://localhost:8080/",
          "height": 53
        }
      },
      "source": [
        "from sklearn.ensemble import AdaBoostClassifier\n",
        "clf = AdaBoostClassifier(n_estimators=100, learning_rate=0.5)\n",
        "clf.fit(X_train, y_train)"
      ],
      "execution_count": 86,
      "outputs": [
        {
          "output_type": "execute_result",
          "data": {
            "text/plain": [
              "AdaBoostClassifier(algorithm='SAMME.R', base_estimator=None, learning_rate=0.5,\n",
              "                   n_estimators=100, random_state=None)"
            ]
          },
          "metadata": {
            "tags": []
          },
          "execution_count": 86
        }
      ]
    },
    {
      "cell_type": "code",
      "metadata": {
        "id": "XHy-rTRwcnzu",
        "colab_type": "code",
        "outputId": "41b0c4e7-100f-4b18-f25d-a15e33d6060e",
        "colab": {
          "base_uri": "https://localhost:8080/",
          "height": 35
        }
      },
      "source": [
        "clf.score(X_test, y_test)"
      ],
      "execution_count": 87,
      "outputs": [
        {
          "output_type": "execute_result",
          "data": {
            "text/plain": [
              "1.0"
            ]
          },
          "metadata": {
            "tags": []
          },
          "execution_count": 87
        }
      ]
    }
  ]
}