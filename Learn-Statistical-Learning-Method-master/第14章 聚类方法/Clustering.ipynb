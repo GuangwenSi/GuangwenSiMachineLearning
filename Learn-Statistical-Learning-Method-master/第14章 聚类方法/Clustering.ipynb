{
  "nbformat": 4,
  "nbformat_minor": 0,
  "metadata": {
    "colab": {
      "name": "Clustering.ipynb",
      "version": "0.3.2",
      "provenance": [],
      "collapsed_sections": []
    },
    "kernelspec": {
      "name": "python3",
      "display_name": "Python 3"
    }
  },
  "cells": [
    {
      "cell_type": "markdown",
      "metadata": {
        "id": "_lhcu-eFro6f",
        "colab_type": "text"
      },
      "source": [
        "# 聚类方法"
      ]
    },
    {
      "cell_type": "markdown",
      "metadata": {
        "id": "hGPg5M7wsOQY",
        "colab_type": "text"
      },
      "source": [
        "### 层次聚类 \n",
        "\n",
        "1. **聚合**（自下而上）：聚合法开始将每个样本各自分裂到一个类，之后将相距最近的两类合并，建立一个新的类，重复次操作知道满足停止条件，得到层次化的类别。\n",
        "\n",
        "2. **分裂**（自上而下）： 分裂法开始将所有样本分到一个类，之后将已有类中相距最远的样本分到两个新的类，重复此操作直到满足停止条件，得到层次化的类别。\n",
        "\n",
        "\n",
        "### k均值聚类\n",
        "\n",
        "k均值聚类是基于中心的聚类方法，通过迭代，将样本分到k个类中，使得每个样本与其所属类的中心或均值最近，得到k个平坦的，非层次化的类别，构成对空间的划分。"
      ]
    },
    {
      "cell_type": "code",
      "metadata": {
        "id": "qAlQYJ2Srd2_",
        "colab_type": "code",
        "colab": {}
      },
      "source": [
        "import math\n",
        "import random\n",
        "import numpy as np\n",
        "from sklearn import datasets,cluster\n",
        "import matplotlib.pyplot as plt"
      ],
      "execution_count": 0,
      "outputs": []
    },
    {
      "cell_type": "code",
      "metadata": {
        "id": "M_XOaWU5xpjI",
        "colab_type": "code",
        "colab": {}
      },
      "source": [
        "iris = datasets.load_iris()"
      ],
      "execution_count": 0,
      "outputs": []
    },
    {
      "cell_type": "code",
      "metadata": {
        "id": "_swSYxCr0RzU",
        "colab_type": "code",
        "colab": {
          "base_uri": "https://localhost:8080/",
          "height": 143
        },
        "outputId": "88d09d3b-7700-4af5-e3b6-4d7735a3dd75"
      },
      "source": [
        "gt = iris['target'];gt"
      ],
      "execution_count": 68,
      "outputs": [
        {
          "output_type": "execute_result",
          "data": {
            "text/plain": [
              "array([0, 0, 0, 0, 0, 0, 0, 0, 0, 0, 0, 0, 0, 0, 0, 0, 0, 0, 0, 0, 0, 0,\n",
              "       0, 0, 0, 0, 0, 0, 0, 0, 0, 0, 0, 0, 0, 0, 0, 0, 0, 0, 0, 0, 0, 0,\n",
              "       0, 0, 0, 0, 0, 0, 1, 1, 1, 1, 1, 1, 1, 1, 1, 1, 1, 1, 1, 1, 1, 1,\n",
              "       1, 1, 1, 1, 1, 1, 1, 1, 1, 1, 1, 1, 1, 1, 1, 1, 1, 1, 1, 1, 1, 1,\n",
              "       1, 1, 1, 1, 1, 1, 1, 1, 1, 1, 1, 1, 2, 2, 2, 2, 2, 2, 2, 2, 2, 2,\n",
              "       2, 2, 2, 2, 2, 2, 2, 2, 2, 2, 2, 2, 2, 2, 2, 2, 2, 2, 2, 2, 2, 2,\n",
              "       2, 2, 2, 2, 2, 2, 2, 2, 2, 2, 2, 2, 2, 2, 2, 2, 2, 2])"
            ]
          },
          "metadata": {
            "tags": []
          },
          "execution_count": 68
        }
      ]
    },
    {
      "cell_type": "markdown",
      "metadata": {
        "id": "UoIRpftd9Uh2",
        "colab_type": "text"
      },
      "source": [
        "3类"
      ]
    },
    {
      "cell_type": "code",
      "metadata": {
        "id": "pI6cS2sjy3Sz",
        "colab_type": "code",
        "colab": {
          "base_uri": "https://localhost:8080/",
          "height": 35
        },
        "outputId": "3d9d01de-31b4-4eea-989c-b0a986a77af5"
      },
      "source": [
        "iris['data'][:,:2].shape"
      ],
      "execution_count": 11,
      "outputs": [
        {
          "output_type": "execute_result",
          "data": {
            "text/plain": [
              "(150, 2)"
            ]
          },
          "metadata": {
            "tags": []
          },
          "execution_count": 11
        }
      ]
    },
    {
      "cell_type": "code",
      "metadata": {
        "id": "YwIVX5j81348",
        "colab_type": "code",
        "colab": {}
      },
      "source": [
        "data = iris['data'][:,:2]"
      ],
      "execution_count": 0,
      "outputs": []
    },
    {
      "cell_type": "code",
      "metadata": {
        "id": "h-wEZbDR03E_",
        "colab_type": "code",
        "colab": {}
      },
      "source": [
        "x = data[:,0]\n",
        "y = data[:,1]"
      ],
      "execution_count": 0,
      "outputs": []
    },
    {
      "cell_type": "code",
      "metadata": {
        "id": "bW_lxjVdy4rW",
        "colab_type": "code",
        "colab": {
          "base_uri": "https://localhost:8080/",
          "height": 269
        },
        "outputId": "ded2fc31-a69a-4e40-b0d4-350b995488ce"
      },
      "source": [
        "plt.scatter(x, y, color='green')\n",
        "plt.xlim(4, 8)\n",
        "plt.ylim(1, 5)\n",
        "plt.show()"
      ],
      "execution_count": 25,
      "outputs": [
        {
          "output_type": "display_data",
          "data": {
            "image/png": "[encoded data removed]",
            "text/plain": [
              "<Figure size 432x288 with 1 Axes>"
            ]
          },
          "metadata": {
            "tags": []
          }
        }
      ]
    },
    {
      "cell_type": "code",
      "metadata": {
        "id": "WkcMa9cs2onL",
        "colab_type": "code",
        "colab": {}
      },
      "source": [
        "# 定义聚类数的节点\n",
        "\n",
        "class ClusterNode:\n",
        "    def __init__(self, vec, left=None, right=None, distance=-1, id=None, count=1):\n",
        "        \"\"\"\n",
        "        :param vec: 保存两个数据聚类后形成新的中心\n",
        "        :param left: 左节点\n",
        "        :param right:  右节点\n",
        "        :param distance: 两个节点的距离\n",
        "        :param id: 用来标记哪些节点是计算过的\n",
        "        :param count: 这个节点的叶子节点个数\n",
        "        \"\"\"\n",
        "        self.vec = vec\n",
        "        self.left = left\n",
        "        self.right = right\n",
        "        self.distance = distance\n",
        "        self.id = id\n",
        "        self.count = count"
      ],
      "execution_count": 0,
      "outputs": []
    },
    {
      "cell_type": "code",
      "metadata": {
        "id": "_M1vGW8s5ycx",
        "colab_type": "code",
        "colab": {}
      },
      "source": [
        "def euler_distance(point1: np.ndarray, point2: list) -> float:\n",
        "    \"\"\"\n",
        "    计算两点之间的欧拉距离，支持多维\n",
        "    \"\"\"\n",
        "    distance = 0.0\n",
        "    for a, b in zip(point1, point2):\n",
        "        distance += math.pow(a - b, 2)\n",
        "    return math.sqrt(distance)"
      ],
      "execution_count": 0,
      "outputs": []
    },
    {
      "cell_type": "code",
      "metadata": {
        "id": "udgrrhsn19X1",
        "colab_type": "code",
        "colab": {}
      },
      "source": [
        "# 层次聚类（聚合法）\n",
        "\n",
        "class Hierarchical:\n",
        "    def __init__(self, k):\n",
        "        self.k = k\n",
        "        self.labels = None\n",
        "        \n",
        "    def fit(self, x):\n",
        "        nodes = [ClusterNode(vec=v, id=i) for i, v in enumerate(x)]\n",
        "        distances = {}\n",
        "        point_num, feature_num = x.shape\n",
        "        self.labels = [-1] * point_num\n",
        "        currentclustid = -1\n",
        "        while(len(nodes)) > self.k:\n",
        "            min_dist = math.inf\n",
        "            nodes_len = len(nodes)\n",
        "            closest_part = None\n",
        "            for i in range(nodes_len - 1):\n",
        "                for j in range(i+1, nodes_len):\n",
        "                    d_key = (nodes[i].id, nodes[j].id)\n",
        "                    if d_key not in distances:\n",
        "                        distances[d_key] = euler_distance(nodes[i].vec, nodes[j].vec)\n",
        "                    d = distances[d_key]\n",
        "                    if d < min_dist:\n",
        "                        min_dist = d\n",
        "                        closest_part = (i, j)\n",
        "                        \n",
        "            part1, part2 = closest_part\n",
        "            node1, node2 = nodes[part1], nodes[part2]\n",
        "            new_vec = [ (node1.vec[i] * node1.count + node2.vec[i] * node2.count ) / (node1.count + node2.count)\n",
        "                        for i in range(feature_num)]\n",
        "            new_node = ClusterNode(vec=new_vec,\n",
        "                                   left=node1,\n",
        "                                   right=node2,\n",
        "                                   distance=min_dist,\n",
        "                                   id=currentclustid,\n",
        "                                   count=node1.count + node2.count)\n",
        "            currentclustid -= 1\n",
        "            del nodes[part2], nodes[part1]\n",
        "            nodes.append(new_node)\n",
        "            \n",
        "        self.nodes = nodes\n",
        "        self.calc_label()\n",
        "        \n",
        "    def calc_label(self):\n",
        "        \"\"\"\n",
        "        调取聚类的结果\n",
        "        \"\"\"\n",
        "        for i, node in enumerate(self.nodes):\n",
        "            # 将节点的所有叶子节点都分类\n",
        "            self.leaf_traversal(node, i)\n",
        "\n",
        "    def leaf_traversal(self, node: ClusterNode, label):\n",
        "        \"\"\"\n",
        "        递归遍历叶子节点\n",
        "        \"\"\"\n",
        "        if node.left == None and node.right == None:\n",
        "            self.labels[node.id] = label\n",
        "        if node.left:\n",
        "            self.leaf_traversal(node.left, label)\n",
        "        if node.right:\n",
        "            self.leaf_traversal(node.right, label)\n",
        "            \n",
        "# https://zhuanlan.zhihu.com/p/32438294"
      ],
      "execution_count": 0,
      "outputs": []
    },
    {
      "cell_type": "code",
      "metadata": {
        "id": "LwD9Iots6871",
        "colab_type": "code",
        "colab": {
          "base_uri": "https://localhost:8080/",
          "height": 107
        },
        "outputId": "be527c5e-3be7-40ee-c361-37a0ab57440b"
      },
      "source": [
        "my = Hierarchical(3)\n",
        "my.fit(data)\n",
        "labels = np.array(my.labels)\n",
        "print(labels)"
      ],
      "execution_count": 49,
      "outputs": [
        {
          "output_type": "stream",
          "text": [
            "[2 2 2 2 2 2 2 2 2 2 2 2 2 2 2 2 2 2 2 2 2 2 2 2 2 2 2 2 2 2 2 2 2 2 2 2 2\n",
            " 2 2 2 2 2 2 2 2 2 2 2 2 2 0 0 0 0 0 0 0 2 0 2 2 0 0 0 0 0 0 0 0 0 0 0 0 0\n",
            " 0 0 0 0 0 0 0 0 0 0 0 0 0 0 0 0 0 0 0 2 0 0 0 0 2 0 0 0 1 0 0 1 2 1 0 1 0\n",
            " 0 0 0 0 0 0 1 1 0 0 0 1 0 0 1 0 0 0 1 1 1 0 0 0 1 0 0 0 0 0 0 0 0 0 0 0 0\n",
            " 0 0]\n"
          ],
          "name": "stdout"
        }
      ]
    },
    {
      "cell_type": "code",
      "metadata": {
        "id": "yJN0NPWn8F6K",
        "colab_type": "code",
        "colab": {
          "base_uri": "https://localhost:8080/",
          "height": 281
        },
        "outputId": "f8238840-dd5e-45b3-e5b2-b4fa3836f7bb"
      },
      "source": [
        "# visualize result\n",
        "\n",
        "cat1 = data[np.where(labels==0)]\n",
        "cat2 = data[np.where(labels==1)]\n",
        "cat3 = data[np.where(labels==2)]\n",
        "\n",
        "plt.scatter(cat1[:,0], cat1[:,1], color='green')\n",
        "plt.scatter(cat2[:,0], cat2[:,1], color='red')\n",
        "plt.scatter(cat3[:,0], cat3[:,1], color='blue')\n",
        "plt.title('Hierarchical clustering with k=3')\n",
        "plt.xlim(4, 8)\n",
        "plt.ylim(1, 5)\n",
        "plt.show()"
      ],
      "execution_count": 63,
      "outputs": [
        {
          "output_type": "display_data",
          "data": {
            "image/png": "[encoded data removed]",
            "text/plain": [
              "<Figure size 432x288 with 1 Axes>"
            ]
          },
          "metadata": {
            "tags": []
          }
        }
      ]
    },
    {
      "cell_type": "code",
      "metadata": {
        "id": "7xilKyap8ghX",
        "colab_type": "code",
        "colab": {
          "base_uri": "https://localhost:8080/",
          "height": 107
        },
        "outputId": "0a58379a-679a-4d0b-fe13-241585f60d81"
      },
      "source": [
        "sk = cluster.AgglomerativeClustering(3)\n",
        "sk.fit(data)\n",
        "labels_ = sk.labels_\n",
        "print(labels_)"
      ],
      "execution_count": 66,
      "outputs": [
        {
          "output_type": "stream",
          "text": [
            "[1 1 1 1 1 1 1 1 1 1 1 1 1 1 1 1 1 1 1 1 1 1 1 1 1 1 1 1 1 1 1 1 1 1 1 1 1\n",
            " 1 1 1 1 1 1 1 1 1 1 1 1 1 0 0 0 2 0 2 0 1 0 1 1 0 2 0 2 0 2 2 2 2 0 0 2 0\n",
            " 0 0 0 0 0 2 2 2 2 0 2 0 0 2 2 2 2 0 2 1 2 2 2 0 1 2 0 2 0 0 0 0 1 0 0 0 0\n",
            " 0 0 2 2 0 0 0 0 2 0 2 0 0 0 0 0 0 0 0 0 0 0 0 0 0 0 0 0 0 0 0 2 0 0 0 2 0\n",
            " 0 0]\n"
          ],
          "name": "stdout"
        }
      ]
    },
    {
      "cell_type": "code",
      "metadata": {
        "id": "hlFZeDdW9Bzr",
        "colab_type": "code",
        "colab": {
          "base_uri": "https://localhost:8080/",
          "height": 281
        },
        "outputId": "7a837637-70e6-4c40-b6f2-c6a651fc4cae"
      },
      "source": [
        "# visualize result of sklearn\n",
        "\n",
        "cat1_ = data[np.where(labels_==0)]\n",
        "cat2_ = data[np.where(labels_==1)]\n",
        "cat3_ = data[np.where(labels_==2)]\n",
        "\n",
        "plt.scatter(cat1_[:,0], cat1_[:,1], color='green')\n",
        "plt.scatter(cat2_[:,0], cat2_[:,1], color='red')\n",
        "plt.scatter(cat3_[:,0], cat3_[:,1], color='blue')\n",
        "plt.title('Hierarchical clustering with k=3')\n",
        "plt.xlim(4, 8)\n",
        "plt.ylim(1, 5)\n",
        "plt.show()"
      ],
      "execution_count": 67,
      "outputs": [
        {
          "output_type": "display_data",
          "data": {
            "image/png": "[encoded data removed]",
            "text/plain": [
              "<Figure size 432x288 with 1 Axes>"
            ]
          },
          "metadata": {
            "tags": []
          }
        }
      ]
    },
    {
      "cell_type": "markdown",
      "metadata": {
        "id": "La_XZDI5_Bng",
        "colab_type": "text"
      },
      "source": [
        "---------------------------------------------------------------------------------------------------------------------------------"
      ]
    },
    {
      "cell_type": "code",
      "metadata": {
        "id": "fNl9AY6vAFJG",
        "colab_type": "code",
        "colab": {}
      },
      "source": [
        "# kmeans\n",
        "\n",
        "class MyKmeans:\n",
        "    def __init__(self, k, n=20):\n",
        "        self.k = k\n",
        "        self.n = n\n",
        "        \n",
        "    def fit(self, x, centers=None):\n",
        "        # 第一步，随机选择 K 个点, 或者指定\n",
        "        if centers is None:\n",
        "            idx = np.random.randint(low=0, high=len(x), size=self.k)\n",
        "            centers = x[idx]\n",
        "        #print(centers)\n",
        "        \n",
        "        inters = 0\n",
        "        while inters < self.n:\n",
        "            #print(inters)\n",
        "            #print(centers)\n",
        "            points_set = {key: [] for key in range(self.k)}\n",
        "\n",
        "            # 第二步，遍历所有点 P，将 P 放入最近的聚类中心的集合中\n",
        "            for p in x:\n",
        "                nearest_index = np.argmin(np.sum((centers - p) ** 2, axis=1) ** 0.5)\n",
        "                points_set[nearest_index].append(p)\n",
        "\n",
        "            # 第三步，遍历每一个点集，计算新的聚类中心\n",
        "            for i_k in range(self.k):\n",
        "                centers[i_k] = sum(points_set[i_k])/len(points_set[i_k])\n",
        "                \n",
        "            inters += 1\n",
        "\n",
        "        \n",
        "            \n",
        "        return points_set, centers\n",
        "        "
      ],
      "execution_count": 0,
      "outputs": []
    },
    {
      "cell_type": "code",
      "metadata": {
        "id": "SyLthTXfBfnV",
        "colab_type": "code",
        "colab": {}
      },
      "source": [
        "m = MyKmeans(3)\n",
        "points_set, centers = m.fit(data)"
      ],
      "execution_count": 0,
      "outputs": []
    },
    {
      "cell_type": "code",
      "metadata": {
        "id": "VE2ryNB-O_Zt",
        "colab_type": "code",
        "colab": {
          "base_uri": "https://localhost:8080/",
          "height": 71
        },
        "outputId": "55a70e58-fccd-4001-c67c-964ede3a8550"
      },
      "source": [
        "centers"
      ],
      "execution_count": 205,
      "outputs": [
        {
          "output_type": "execute_result",
          "data": {
            "text/plain": [
              "array([[5.02173913, 3.44782609],\n",
              "       [5.77358491, 2.69245283],\n",
              "       [6.81276596, 3.07446809]])"
            ]
          },
          "metadata": {
            "tags": []
          },
          "execution_count": 205
        }
      ]
    },
    {
      "cell_type": "code",
      "metadata": {
        "id": "M26gflVYDzY4",
        "colab_type": "code",
        "colab": {
          "base_uri": "https://localhost:8080/",
          "height": 281
        },
        "outputId": "abb1b7b1-df4f-4fa1-9a24-1dc722112c2c"
      },
      "source": [
        "# visualize result\n",
        "\n",
        "cat1 = np.asarray(points_set[0])\n",
        "cat2 = np.asarray(points_set[1])\n",
        "cat3 = np.asarray(points_set[2])\n",
        "\n",
        "for ix, p in enumerate(centers):\n",
        "    plt.scatter(p[0], p[1], color='C{}'.format(ix), marker='^', edgecolor='black', s=256)\n",
        "        \n",
        "plt.scatter(cat1_[:,0], cat1_[:,1], color='green')\n",
        "plt.scatter(cat2_[:,0], cat2_[:,1], color='red')\n",
        "plt.scatter(cat3_[:,0], cat3_[:,1], color='blue')\n",
        "plt.title('Hierarchical clustering with k=3')\n",
        "plt.xlim(4, 8)\n",
        "plt.ylim(1, 5)\n",
        "plt.show()"
      ],
      "execution_count": 206,
      "outputs": [
        {
          "output_type": "display_data",
          "data": {
            "image/png": "[encoded data removed]",
            "text/plain": [
              "<Figure size 432x288 with 1 Axes>"
            ]
          },
          "metadata": {
            "tags": []
          }
        }
      ]
    },
    {
      "cell_type": "code",
      "metadata": {
        "id": "HiFFoBdWN4fW",
        "colab_type": "code",
        "colab": {}
      },
      "source": [
        "# using sklearn\n",
        "\n",
        "kmeans = KMeans(n_clusters=3, max_iter=100).fit(data)\n",
        "gt_labels__ = kmeans.labels_\n",
        "centers__ = kmeans.cluster_centers_"
      ],
      "execution_count": 0,
      "outputs": []
    },
    {
      "cell_type": "code",
      "metadata": {
        "id": "LgKRAwmxObYS",
        "colab_type": "code",
        "colab": {
          "base_uri": "https://localhost:8080/",
          "height": 143
        },
        "outputId": "032bcef5-ba68-4707-fbb0-f7a225ee968f"
      },
      "source": [
        "gt_labels__"
      ],
      "execution_count": 163,
      "outputs": [
        {
          "output_type": "execute_result",
          "data": {
            "text/plain": [
              "array([1, 1, 2, 0, 2, 2, 2, 2, 2, 2, 2, 2, 2, 2, 2, 2, 2, 2, 2, 2, 2, 2,\n",
              "       2, 2, 2, 2, 2, 2, 2, 2, 2, 2, 2, 2, 2, 2, 2, 2, 2, 2, 2, 2, 2, 2,\n",
              "       2, 2, 2, 2, 2, 2, 1, 1, 1, 0, 1, 0, 1, 0, 1, 0, 0, 0, 0, 0, 0, 1,\n",
              "       0, 0, 0, 0, 0, 0, 0, 0, 1, 1, 1, 1, 0, 0, 0, 0, 0, 0, 0, 0, 1, 0,\n",
              "       0, 0, 0, 0, 0, 0, 0, 0, 0, 0, 0, 0, 1, 0, 1, 1, 1, 1, 0, 1, 1, 1,\n",
              "       1, 1, 1, 0, 0, 1, 1, 1, 1, 0, 1, 0, 1, 0, 1, 1, 0, 0, 1, 1, 1, 1,\n",
              "       1, 0, 0, 1, 1, 1, 0, 1, 1, 1, 0, 1, 1, 1, 0, 1, 1, 0], dtype=int32)"
            ]
          },
          "metadata": {
            "tags": []
          },
          "execution_count": 163
        }
      ]
    },
    {
      "cell_type": "code",
      "metadata": {
        "id": "A0iu18HPOcrH",
        "colab_type": "code",
        "colab": {
          "base_uri": "https://localhost:8080/",
          "height": 71
        },
        "outputId": "5794f33c-4ebd-47dc-d351-05f44c17343d"
      },
      "source": [
        "centers__"
      ],
      "execution_count": 200,
      "outputs": [
        {
          "output_type": "execute_result",
          "data": {
            "text/plain": [
              "array([[5.77358491, 2.69245283],\n",
              "       [5.02173913, 3.44782609],\n",
              "       [6.81276596, 3.07446809]])"
            ]
          },
          "metadata": {
            "tags": []
          },
          "execution_count": 200
        }
      ]
    },
    {
      "cell_type": "code",
      "metadata": {
        "id": "wEfO5JVjOC5p",
        "colab_type": "code",
        "colab": {
          "base_uri": "https://localhost:8080/",
          "height": 281
        },
        "outputId": "a6386044-2c7b-420d-f429-0b4960900f83"
      },
      "source": [
        "# visualize result\n",
        "\n",
        "cat1 = data[gt_labels__ == 0]\n",
        "cat2 = data[gt_labels__ == 1]\n",
        "cat3 = data[gt_labels__ == 2]\n",
        "\n",
        "for ix, p in enumerate(centers__):\n",
        "    plt.scatter(p[0], p[1], color='C{}'.format(ix), marker='^', edgecolor='black', s=256)\n",
        "        \n",
        "plt.scatter(cat1_[:,0], cat1_[:,1], color='green')\n",
        "plt.scatter(cat2_[:,0], cat2_[:,1], color='red')\n",
        "plt.scatter(cat3_[:,0], cat3_[:,1], color='blue')\n",
        "plt.title('kmeans using sklearn with k=3')\n",
        "plt.xlim(4, 8)\n",
        "plt.ylim(1, 5)\n",
        "plt.show()"
      ],
      "execution_count": 164,
      "outputs": [
        {
          "output_type": "display_data",
          "data": {
            "image/png": "[encoded data removed]",
            "text/plain": [
              "<Figure size 432x288 with 1 Axes>"
            ]
          },
          "metadata": {
            "tags": []
          }
        }
      ]
    },
    {
      "cell_type": "markdown",
      "metadata": {
        "id": "u5XVOLGBKC4A",
        "colab_type": "text"
      },
      "source": [
        "#### 寻找 K 值"
      ]
    },
    {
      "cell_type": "code",
      "metadata": {
        "id": "uCe9-EHaJrFz",
        "colab_type": "code",
        "colab": {
          "base_uri": "https://localhost:8080/",
          "height": 281
        },
        "outputId": "4c2fe667-ee92-4909-c582-6605bd862ecc"
      },
      "source": [
        "from sklearn.cluster import KMeans\n",
        "\n",
        "loss = []\n",
        "\n",
        "for i in range(1, 10):\n",
        "    kmeans = KMeans(n_clusters=i, max_iter=100).fit(data)\n",
        "    loss.append(kmeans.inertia_ / len(data) / 3)\n",
        "\n",
        "plt.title('K with loss')\n",
        "plt.plot(range(1, 10), loss)\n",
        "plt.show()"
      ],
      "execution_count": 129,
      "outputs": [
        {
          "output_type": "display_data",
          "data": {
            "image/png": "[encoded data removed]",
            "text/plain": [
              "<Figure size 432x288 with 1 Axes>"
            ]
          },
          "metadata": {
            "tags": []
          }
        }
      ]
    },
    {
      "cell_type": "markdown",
      "metadata": {
        "id": "oaa4ModGKN4c",
        "colab_type": "text"
      },
      "source": [
        "##### 例 14.2"
      ]
    },
    {
      "cell_type": "code",
      "metadata": {
        "id": "87a-GPzLKK62",
        "colab_type": "code",
        "colab": {}
      },
      "source": [
        "X = [[0, 2], [0, 0], [1, 0], [5, 0], [5, 2]]"
      ],
      "execution_count": 0,
      "outputs": []
    },
    {
      "cell_type": "code",
      "metadata": {
        "id": "NoacPJOONbqE",
        "colab_type": "code",
        "colab": {
          "base_uri": "https://localhost:8080/",
          "height": 107
        },
        "outputId": "70147d21-d14d-416c-ab26-80b3f23793a2"
      },
      "source": [
        "np.asarray(X)"
      ],
      "execution_count": 208,
      "outputs": [
        {
          "output_type": "execute_result",
          "data": {
            "text/plain": [
              "array([[0, 2],\n",
              "       [0, 0],\n",
              "       [1, 0],\n",
              "       [5, 0],\n",
              "       [5, 2]])"
            ]
          },
          "metadata": {
            "tags": []
          },
          "execution_count": 208
        }
      ]
    },
    {
      "cell_type": "code",
      "metadata": {
        "id": "w5CrPk68I9B9",
        "colab_type": "code",
        "colab": {}
      },
      "source": [
        "m = MyKmeans(2, 100)\n",
        "points_set, centers = m.fit(np.asarray(X))"
      ],
      "execution_count": 0,
      "outputs": []
    },
    {
      "cell_type": "code",
      "metadata": {
        "id": "THUOLIKiKkLc",
        "colab_type": "code",
        "colab": {
          "base_uri": "https://localhost:8080/",
          "height": 53
        },
        "outputId": "693794ef-67b6-4bd4-e1bb-3d05facd10f1"
      },
      "source": [
        "points_set"
      ],
      "execution_count": 210,
      "outputs": [
        {
          "output_type": "execute_result",
          "data": {
            "text/plain": [
              "{0: [array([5, 0]), array([5, 2])],\n",
              " 1: [array([0, 2]), array([0, 0]), array([1, 0])]}"
            ]
          },
          "metadata": {
            "tags": []
          },
          "execution_count": 210
        }
      ]
    },
    {
      "cell_type": "code",
      "metadata": {
        "id": "1TqaAPnnKrkn",
        "colab_type": "code",
        "colab": {
          "base_uri": "https://localhost:8080/",
          "height": 53
        },
        "outputId": "7bfe9b28-4cda-4a20-ca99-112373a4313c"
      },
      "source": [
        "centers"
      ],
      "execution_count": 211,
      "outputs": [
        {
          "output_type": "execute_result",
          "data": {
            "text/plain": [
              "array([[5, 1],\n",
              "       [0, 0]])"
            ]
          },
          "metadata": {
            "tags": []
          },
          "execution_count": 211
        }
      ]
    },
    {
      "cell_type": "code",
      "metadata": {
        "id": "7f_Jv2EFLmms",
        "colab_type": "code",
        "colab": {}
      },
      "source": [
        "kmeans = KMeans(n_clusters=2, max_iter=100).fit(np.asarray(X))"
      ],
      "execution_count": 0,
      "outputs": []
    },
    {
      "cell_type": "code",
      "metadata": {
        "id": "S5oVNBQdL-sl",
        "colab_type": "code",
        "colab": {
          "base_uri": "https://localhost:8080/",
          "height": 35
        },
        "outputId": "d04fd98e-8f47-4d8b-cf79-da6a19157843"
      },
      "source": [
        "kmeans.labels_"
      ],
      "execution_count": 213,
      "outputs": [
        {
          "output_type": "execute_result",
          "data": {
            "text/plain": [
              "array([0, 0, 0, 1, 1], dtype=int32)"
            ]
          },
          "metadata": {
            "tags": []
          },
          "execution_count": 213
        }
      ]
    },
    {
      "cell_type": "code",
      "metadata": {
        "id": "MG_sSMnHMU_r",
        "colab_type": "code",
        "colab": {
          "base_uri": "https://localhost:8080/",
          "height": 53
        },
        "outputId": "9c4393a2-3f9e-492e-bd10-98d48ee6495c"
      },
      "source": [
        "kmeans.cluster_centers_"
      ],
      "execution_count": 214,
      "outputs": [
        {
          "output_type": "execute_result",
          "data": {
            "text/plain": [
              "array([[0.33333333, 0.66666667],\n",
              "       [5.        , 1.        ]])"
            ]
          },
          "metadata": {
            "tags": []
          },
          "execution_count": 214
        }
      ]
    }
  ]
}