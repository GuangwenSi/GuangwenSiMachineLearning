{
  "nbformat": 4,
  "nbformat_minor": 0,
  "metadata": {
    "colab": {
      "name": "“perceptron.ipynb”的副本",
      "version": "0.3.2",
      "provenance": [],
      "collapsed_sections": [],
      "toc_visible": true
    },
    "language_info": {
      "codemirror_mode": {
        "name": "ipython",
        "version": 3
      },
      "file_extension": ".py",
      "mimetype": "text/x-python",
      "name": "python",
      "nbconvert_exporter": "python",
      "pygments_lexer": "ipython3",
      "version": "3.6.2"
    },
    "kernelspec": {
      "display_name": "Python 3",
      "language": "python",
      "name": "python3"
    }
  },
  "cells": [
    {
      "cell_type": "markdown",
      "metadata": {
        "id": "2Rs9taXvrXIX",
        "colab_type": "text"
      },
      "source": [
        "# 第2章 感知机\n",
        "\n",
        "二分类模型"
      ]
    },
    {
      "cell_type": "markdown",
      "metadata": {
        "id": "qxcj1YbyrXIY",
        "colab_type": "text"
      },
      "source": [
        "$f(x) = sign(w*x + b)$\n",
        "\n",
        "损失函数 $L(w, b) = -\\Sigma{y_{i}(w*x_{i} + b)}$\n",
        "\n",
        "---\n",
        "#### 算法\n",
        "\n",
        "随即梯度下降法 Stochastic Gradient Descent\n",
        "\n",
        "随机抽取一个误分类点使其梯度下降。\n",
        "\n",
        "$w = w + \\eta y_{i}x_{i}$\n",
        "\n",
        "$b = b + \\eta y_{i}$\n",
        "\n",
        "当实例点被误分类，即位于分离超平面的错误侧，则调整w, b的值，使分离超平面向该无分类点的一侧移动，直至误分类点被正确分类"
      ]
    },
    {
      "cell_type": "markdown",
      "metadata": {
        "id": "kTw0KxLQrXIZ",
        "colab_type": "text"
      },
      "source": [
        "拿出iris数据集中两个分类的数据和[sepal length，sepal width]作为特征"
      ]
    },
    {
      "cell_type": "code",
      "metadata": {
        "id": "Jd4gLSQZrXIa",
        "colab_type": "code",
        "colab": {}
      },
      "source": [
        "import pandas as pd\n",
        "import numpy as np\n",
        "from sklearn.datasets import load_iris\n",
        "import matplotlib.pyplot as plt\n",
        "%matplotlib inline"
      ],
      "execution_count": 0,
      "outputs": []
    },
    {
      "cell_type": "code",
      "metadata": {
        "id": "Awm6TTnwrXId",
        "colab_type": "code",
        "colab": {}
      },
      "source": [
        "# load data\n",
        "iris = load_iris()\n",
        "df = pd.DataFrame(iris.data, columns=iris.feature_names)\n",
        "df['label'] = iris.target"
      ],
      "execution_count": 0,
      "outputs": []
    },
    {
      "cell_type": "code",
      "metadata": {
        "id": "gr7UQ1VerxCv",
        "colab_type": "code",
        "outputId": "570b24ce-722d-4180-efc3-c5c49a10f1f0",
        "colab": {
          "base_uri": "https://localhost:8080/",
          "height": 204
        }
      },
      "source": [
        "df.head()"
      ],
      "execution_count": 3,
      "outputs": [
        {
          "output_type": "execute_result",
          "data": {
            "text/html": [
              "<div>\n",
              "<style scoped>\n",
              "    .dataframe tbody tr th:only-of-type {\n",
              "        vertical-align: middle;\n",
              "    }\n",
              "\n",
              "    .dataframe tbody tr th {\n",
              "        vertical-align: top;\n",
              "    }\n",
              "\n",
              "    .dataframe thead th {\n",
              "        text-align: right;\n",
              "    }\n",
              "</style>\n",
              "<table border=\"1\" class=\"dataframe\">\n",
              "  <thead>\n",
              "    <tr style=\"text-align: right;\">\n",
              "      <th></th>\n",
              "      <th>sepal length (cm)</th>\n",
              "      <th>sepal width (cm)</th>\n",
              "      <th>petal length (cm)</th>\n",
              "      <th>petal width (cm)</th>\n",
              "      <th>label</th>\n",
              "    </tr>\n",
              "  </thead>\n",
              "  <tbody>\n",
              "    <tr>\n",
              "      <th>0</th>\n",
              "      <td>5.1</td>\n",
              "      <td>3.5</td>\n",
              "      <td>1.4</td>\n",
              "      <td>0.2</td>\n",
              "      <td>0</td>\n",
              "    </tr>\n",
              "    <tr>\n",
              "      <th>1</th>\n",
              "      <td>4.9</td>\n",
              "      <td>3.0</td>\n",
              "      <td>1.4</td>\n",
              "      <td>0.2</td>\n",
              "      <td>0</td>\n",
              "    </tr>\n",
              "    <tr>\n",
              "      <th>2</th>\n",
              "      <td>4.7</td>\n",
              "      <td>3.2</td>\n",
              "      <td>1.3</td>\n",
              "      <td>0.2</td>\n",
              "      <td>0</td>\n",
              "    </tr>\n",
              "    <tr>\n",
              "      <th>3</th>\n",
              "      <td>4.6</td>\n",
              "      <td>3.1</td>\n",
              "      <td>1.5</td>\n",
              "      <td>0.2</td>\n",
              "      <td>0</td>\n",
              "    </tr>\n",
              "    <tr>\n",
              "      <th>4</th>\n",
              "      <td>5.0</td>\n",
              "      <td>3.6</td>\n",
              "      <td>1.4</td>\n",
              "      <td>0.2</td>\n",
              "      <td>0</td>\n",
              "    </tr>\n",
              "  </tbody>\n",
              "</table>\n",
              "</div>"
            ],
            "text/plain": [
              "   sepal length (cm)  sepal width (cm)  ...  petal width (cm)  label\n",
              "0                5.1               3.5  ...               0.2      0\n",
              "1                4.9               3.0  ...               0.2      0\n",
              "2                4.7               3.2  ...               0.2      0\n",
              "3                4.6               3.1  ...               0.2      0\n",
              "4                5.0               3.6  ...               0.2      0\n",
              "\n",
              "[5 rows x 5 columns]"
            ]
          },
          "metadata": {
            "tags": []
          },
          "execution_count": 3
        }
      ]
    },
    {
      "cell_type": "code",
      "metadata": {
        "id": "I09dAZWgrXIf",
        "colab_type": "code",
        "outputId": "13e919bc-3953-47fb-ac4f-5f50c897e275",
        "colab": {
          "base_uri": "https://localhost:8080/",
          "height": 89
        }
      },
      "source": [
        "#\n",
        "df.columns = ['sepal length', 'sepal width', 'petal length', 'petal width', 'label']\n",
        "df.label.value_counts()"
      ],
      "execution_count": 4,
      "outputs": [
        {
          "output_type": "execute_result",
          "data": {
            "text/plain": [
              "2    50\n",
              "1    50\n",
              "0    50\n",
              "Name: label, dtype: int64"
            ]
          },
          "metadata": {
            "tags": []
          },
          "execution_count": 4
        }
      ]
    },
    {
      "cell_type": "code",
      "metadata": {
        "id": "pfXBMB1srXIj",
        "colab_type": "code",
        "outputId": "2879b376-7537-4ed6-d660-0e8598d5006c",
        "colab": {
          "base_uri": "https://localhost:8080/",
          "height": 301
        }
      },
      "source": [
        "# plot dataset\n",
        "plt.scatter(df[:50]['sepal length'], df[:50]['sepal width'], label='-1')\n",
        "plt.scatter(df[50:100]['sepal length'], df[50:100]['sepal width'], label='1')\n",
        "plt.xlabel('sepal length')\n",
        "plt.ylabel('sepal width')\n",
        "plt.legend()"
      ],
      "execution_count": 5,
      "outputs": [
        {
          "output_type": "execute_result",
          "data": {
            "text/plain": [
              "<matplotlib.legend.Legend at 0x7f737e540b38>"
            ]
          },
          "metadata": {
            "tags": []
          },
          "execution_count": 5
        },
        {
          "output_type": "display_data",
          "data": {
            "image/png": "[encoded data removed]",
            "text/plain": [
              "<Figure size 432x288 with 1 Axes>"
            ]
          },
          "metadata": {
            "tags": []
          }
        }
      ]
    },
    {
      "cell_type": "code",
      "metadata": {
        "id": "G6mDw2H4rXIn",
        "colab_type": "code",
        "colab": {}
      },
      "source": [
        "# 将df前100行的第一二及最后一列作为数据集\n",
        "data = np.array(df.iloc[:100, [0, 1, -1]])\n",
        "X, y = data[:,:-1], data[:,-1]\n",
        "y = np.array([1 if i == 1 else -1 for i in y])"
      ],
      "execution_count": 0,
      "outputs": []
    },
    {
      "cell_type": "code",
      "metadata": {
        "id": "b-X8nfcrtZGZ",
        "colab_type": "code",
        "outputId": "3d4bfd87-a2e7-4fb5-ad2b-bdf674d7cd26",
        "colab": {
          "base_uri": "https://localhost:8080/",
          "height": 35
        }
      },
      "source": [
        "X.shape"
      ],
      "execution_count": 7,
      "outputs": [
        {
          "output_type": "execute_result",
          "data": {
            "text/plain": [
              "(100, 2)"
            ]
          },
          "metadata": {
            "tags": []
          },
          "execution_count": 7
        }
      ]
    },
    {
      "cell_type": "code",
      "metadata": {
        "id": "DEkk5QtatyKe",
        "colab_type": "code",
        "outputId": "027d7120-eed1-4f05-8026-2a3b87c0bc2d",
        "colab": {
          "base_uri": "https://localhost:8080/",
          "height": 35
        }
      },
      "source": [
        "y.shape"
      ],
      "execution_count": 8,
      "outputs": [
        {
          "output_type": "execute_result",
          "data": {
            "text/plain": [
              "(100,)"
            ]
          },
          "metadata": {
            "tags": []
          },
          "execution_count": 8
        }
      ]
    },
    {
      "cell_type": "markdown",
      "metadata": {
        "id": "xRat7632rXIs",
        "colab_type": "text"
      },
      "source": [
        "## Perceptron"
      ]
    },
    {
      "cell_type": "code",
      "metadata": {
        "id": "o1SudzvBrXIt",
        "colab_type": "code",
        "colab": {}
      },
      "source": [
        "# 原始形式 2.1\n",
        "class PLA:\n",
        "    def __init__(self, max_iter=1000, shuffle=False):\n",
        "        self.b = 0\n",
        "        self.lr = 0.1\n",
        "        self.max_iter = max_iter\n",
        "        self.iter = 0\n",
        "        self.shuffle = shuffle\n",
        "        \n",
        "    def sign(self, x, w, b):\n",
        "        return np.dot(x, w) + b\n",
        "    \n",
        "    def fit(self, X, y):\n",
        "        N, M = X.shape\n",
        "        self.w = np.ones(M)\n",
        "        for n in range(self.max_iter):\n",
        "            self.iter = n\n",
        "            wrong_items = 0\n",
        "            if self.shuffle: #每次迭代，是否打乱\n",
        "                idx = np.random.permutation(range(N))\n",
        "                X,y = X[idx],y[idx]\n",
        "            for i in range(N):\n",
        "                if y[i] * self.sign(X[i], self.w, self.b) <= 0:\n",
        "                    self.w += self.lr * np.dot(y[i], X[i])\n",
        "                    self.b += self.lr * y[i]\n",
        "                    wrong_items += 1\n",
        "            if wrong_items == 0:\n",
        "                print(\"finished at iters: {}, w: {}, b: {}\".format(self.iter, self.w, self.b))\n",
        "                return \n",
        "        print(\"finished for reaching the max_iter: {}, w: {}, b: {}\".format(self.max_iter, self.w, self.b))"
      ],
      "execution_count": 0,
      "outputs": []
    },
    {
      "cell_type": "code",
      "metadata": {
        "id": "80ndC9hpo6mW",
        "colab_type": "code",
        "colab": {}
      },
      "source": [
        "# 对偶形式 2.3\n",
        "class PLA_dual:\n",
        "    def __init__(self, max_iter=1000):\n",
        "        self.b = 0\n",
        "        self.lr = 0.1\n",
        "        self.max_iter = max_iter\n",
        "        self.iter = 0\n",
        "    \n",
        "    def cal_w(self, X):\n",
        "        w = 0\n",
        "        for i in range(len(self.alpha)):\n",
        "            w += self.alpha[i]*y[i]*X[i]\n",
        "        return w\n",
        "    \n",
        "    def gram_matrix(self, X):\n",
        "        return np.dot(X, X.T)\n",
        "    \n",
        "    def fit(self, X, y):\n",
        "        N, M = X.shape\n",
        "        self.alpha = np.zeros(N)\n",
        "        gram = self.gram_matrix(X)\n",
        "        for n in range(self.max_iter):\n",
        "            self.iter = n\n",
        "            wrong_items = 0\n",
        "            for i in range(N):\n",
        "                tmp = 0\n",
        "                for j in range(N):\n",
        "                    tmp += self.alpha[j] * y[j] * gram[i,j]\n",
        "                tmp += self.b\n",
        "                if y[i] * tmp <= 0:\n",
        "                    self.alpha[i] += self.lr\n",
        "                    self.b += self.lr * y[i]\n",
        "                    wrong_items += 1\n",
        "            if wrong_items == 0:\n",
        "                self.w = self.cal_w(X)\n",
        "                print(\"finished at iters: {}, w: {}, b: {}\".format(self.iter, self.w, self.b))\n",
        "                return\n",
        "        self.w = self.cal_w(X)\n",
        "        print(\"finished for reaching the max_iter: {}, w: {}, b: {}\".format(self.max_iter, self.w, self.b))\n",
        "        return"
      ],
      "execution_count": 0,
      "outputs": []
    },
    {
      "cell_type": "code",
      "metadata": {
        "id": "fEMEZ59irXIw",
        "colab_type": "code",
        "outputId": "ca783b85-9985-4acd-c383-5d63b4256c6f",
        "colab": {
          "base_uri": "https://localhost:8080/",
          "height": 35
        }
      },
      "source": [
        "perceptron1 = PLA()\n",
        "perceptron1.fit(X, y)"
      ],
      "execution_count": 11,
      "outputs": [
        {
          "output_type": "stream",
          "text": [
            "finished at iters: 678, w: [  7.8 -10. ], b: -12.099999999999973\n"
          ],
          "name": "stdout"
        }
      ]
    },
    {
      "cell_type": "code",
      "metadata": {
        "id": "ndtAsdrqngKO",
        "colab_type": "code",
        "colab": {
          "base_uri": "https://localhost:8080/",
          "height": 35
        },
        "outputId": "1c91b912-a25c-4903-a900-30431de8fe63"
      },
      "source": [
        "perceptron2 = PLA(shuffle=True)\n",
        "perceptron2.fit(X, y)"
      ],
      "execution_count": 12,
      "outputs": [
        {
          "output_type": "stream",
          "text": [
            "finished at iters: 474, w: [ 6.87 -8.71], b: -10.899999999999977\n"
          ],
          "name": "stdout"
        }
      ]
    },
    {
      "cell_type": "code",
      "metadata": {
        "id": "GLJ8Syrax80V",
        "colab_type": "code",
        "colab": {
          "base_uri": "https://localhost:8080/",
          "height": 35
        },
        "outputId": "27879d2d-e235-4e8a-d530-55d4ca360d74"
      },
      "source": [
        "perceptron3 = PLA_dual()\n",
        "perceptron3.fit(X, y)"
      ],
      "execution_count": 13,
      "outputs": [
        {
          "output_type": "stream",
          "text": [
            "finished at iters: 691, w: [  7.88 -10.07], b: -12.299999999999972\n"
          ],
          "name": "stdout"
        }
      ]
    },
    {
      "cell_type": "code",
      "metadata": {
        "id": "wlDN4I7YrXIz",
        "colab_type": "code",
        "colab": {}
      },
      "source": [
        "def plot(model, tilte):\n",
        "    x_points = np.linspace(4, 7, 10)\n",
        "    y_ = -(model.w[0]*x_points + model.b)/model.w[1]\n",
        "    plt.plot(x_points, y_)\n",
        "    print(y_)\n",
        "\n",
        "    plt.plot(data[:50, 0], data[:50, 1], 'bo', color='blue', label='-1')\n",
        "    plt.plot(data[50:100, 0], data[50:100, 1], 'bo', color='orange', label='1')\n",
        "    plt.xlabel('sepal length')\n",
        "    plt.ylabel('sepal width')\n",
        "    plt.title(tilte)\n",
        "    plt.legend()"
      ],
      "execution_count": 0,
      "outputs": []
    },
    {
      "cell_type": "code",
      "metadata": {
        "id": "FmDVis0SoPEc",
        "colab_type": "code",
        "colab": {
          "base_uri": "https://localhost:8080/",
          "height": 313
        },
        "outputId": "442d715d-326b-4351-ad12-18dec45f1ed6"
      },
      "source": [
        "plot(perceptron1, 'PLA with no shuffle')"
      ],
      "execution_count": 15,
      "outputs": [
        {
          "output_type": "stream",
          "text": [
            "[1.91 2.17 2.43 2.69 2.95 3.21 3.47 3.73 3.99 4.25]\n"
          ],
          "name": "stdout"
        },
        {
          "output_type": "display_data",
          "data": {
            "image/png": "[encoded data removed]",
            "text/plain": [
              "<Figure size 432x288 with 1 Axes>"
            ]
          },
          "metadata": {
            "tags": []
          }
        }
      ]
    },
    {
      "cell_type": "code",
      "metadata": {
        "id": "ggxHGnndnr7E",
        "colab_type": "code",
        "colab": {
          "base_uri": "https://localhost:8080/",
          "height": 331
        },
        "outputId": "635ca959-e41a-46a2-cd22-e62e8a770ecc"
      },
      "source": [
        "plot(perceptron2, 'PLA with shuffle')"
      ],
      "execution_count": 16,
      "outputs": [
        {
          "output_type": "stream",
          "text": [
            "[1.90355913 2.16647532 2.4293915  2.69230769 2.95522388 3.21814007\n",
            " 3.48105626 3.74397245 4.00688863 4.26980482]\n"
          ],
          "name": "stdout"
        },
        {
          "output_type": "display_data",
          "data": {
            "image/png": "[encoded data removed]",
            "text/plain": [
              "<Figure size 432x288 with 1 Axes>"
            ]
          },
          "metadata": {
            "tags": []
          }
        }
      ]
    },
    {
      "cell_type": "code",
      "metadata": {
        "id": "RcfmVlJk6oAm",
        "colab_type": "code",
        "colab": {
          "base_uri": "https://localhost:8080/",
          "height": 331
        },
        "outputId": "939d6cae-855c-41cc-df57-2e045540833d"
      },
      "source": [
        "plot(perceptron3, 'PLA_dual')"
      ],
      "execution_count": 17,
      "outputs": [
        {
          "output_type": "stream",
          "text": [
            "[1.90863952 2.1694803  2.43032109 2.69116187 2.95200265 3.21284343\n",
            " 3.47368421 3.73452499 3.99536577 4.25620655]\n"
          ],
          "name": "stdout"
        },
        {
          "output_type": "display_data",
          "data": {
            "image/png": "[encoded data removed]",
            "text/plain": [
              "<Figure size 432x288 with 1 Axes>"
            ]
          },
          "metadata": {
            "tags": []
          }
        }
      ]
    },
    {
      "cell_type": "code",
      "metadata": {
        "id": "IbCqEOjaL9-E",
        "colab_type": "code",
        "colab": {}
      },
      "source": [
        "# w有细微差别，plot出来的分界面差不多。"
      ],
      "execution_count": 0,
      "outputs": []
    },
    {
      "cell_type": "markdown",
      "metadata": {
        "id": "dAXMohlfrXI2",
        "colab_type": "text"
      },
      "source": [
        "## scikit-learn Perceptron"
      ]
    },
    {
      "cell_type": "code",
      "metadata": {
        "id": "0q8vGAs_rXI3",
        "colab_type": "code",
        "colab": {}
      },
      "source": [
        "from sklearn.linear_model import Perceptron"
      ],
      "execution_count": 0,
      "outputs": []
    },
    {
      "cell_type": "code",
      "metadata": {
        "id": "bPmV4Cb5rXI4",
        "colab_type": "code",
        "outputId": "919a47e7-9132-43a7-9306-7500d1f5447d",
        "colab": {
          "base_uri": "https://localhost:8080/",
          "height": 89
        }
      },
      "source": [
        "clf = Perceptron()\n",
        "clf.fit(X, y)"
      ],
      "execution_count": 20,
      "outputs": [
        {
          "output_type": "execute_result",
          "data": {
            "text/plain": [
              "Perceptron(alpha=0.0001, class_weight=None, early_stopping=False, eta0=1.0,\n",
              "           fit_intercept=True, max_iter=1000, n_iter_no_change=5, n_jobs=None,\n",
              "           penalty=None, random_state=0, shuffle=True, tol=0.001,\n",
              "           validation_fraction=0.1, verbose=0, warm_start=False)"
            ]
          },
          "metadata": {
            "tags": []
          },
          "execution_count": 20
        }
      ]
    },
    {
      "cell_type": "code",
      "metadata": {
        "id": "tYRFc938rXI7",
        "colab_type": "code",
        "outputId": "ae6f54f7-5c41-4509-bae6-5e6bcc8c0a11",
        "colab": {
          "base_uri": "https://localhost:8080/",
          "height": 35
        }
      },
      "source": [
        "# Weights assigned to the features.\n",
        "clf.coef_"
      ],
      "execution_count": 21,
      "outputs": [
        {
          "output_type": "execute_result",
          "data": {
            "text/plain": [
              "array([[ 23.2, -38.7]])"
            ]
          },
          "metadata": {
            "tags": []
          },
          "execution_count": 21
        }
      ]
    },
    {
      "cell_type": "code",
      "metadata": {
        "id": "ms-p2flmrXI9",
        "colab_type": "code",
        "outputId": "8dbf6e79-e8eb-44a7-85fe-9d799c9c52e8",
        "colab": {
          "base_uri": "https://localhost:8080/",
          "height": 35
        }
      },
      "source": [
        "# 截距 Constants in decision function.\n",
        "clf.intercept_"
      ],
      "execution_count": 22,
      "outputs": [
        {
          "output_type": "execute_result",
          "data": {
            "text/plain": [
              "array([-5.])"
            ]
          },
          "metadata": {
            "tags": []
          },
          "execution_count": 22
        }
      ]
    },
    {
      "cell_type": "code",
      "metadata": {
        "id": "glwfUSJX3XfQ",
        "colab_type": "code",
        "outputId": "119302fe-bd1f-42fb-9767-ab9287646aab",
        "colab": {
          "base_uri": "https://localhost:8080/",
          "height": 35
        }
      },
      "source": [
        "clf.n_iter_"
      ],
      "execution_count": 23,
      "outputs": [
        {
          "output_type": "execute_result",
          "data": {
            "text/plain": [
              "8"
            ]
          },
          "metadata": {
            "tags": []
          },
          "execution_count": 23
        }
      ]
    },
    {
      "cell_type": "code",
      "metadata": {
        "id": "wLPY7J68rXJA",
        "colab_type": "code",
        "outputId": "84306984-2ef8-4362-88b6-adac6d20d452",
        "colab": {
          "base_uri": "https://localhost:8080/",
          "height": 301
        }
      },
      "source": [
        "x_ponits = np.linspace(4, 7, 10)\n",
        "y_ = -(clf.coef_[0][0]*x_ponits + clf.intercept_)/clf.coef_[0][1]\n",
        "plt.plot(x_ponits, y_)\n",
        "\n",
        "plt.plot(data[:50, 0], data[:50, 1], 'bo', color='blue', label='0')\n",
        "plt.plot(data[50:100, 0], data[50:100, 1], 'bo', color='orange', label='1')\n",
        "plt.xlabel('sepal length')\n",
        "plt.ylabel('sepal width')\n",
        "plt.legend()"
      ],
      "execution_count": 24,
      "outputs": [
        {
          "output_type": "execute_result",
          "data": {
            "text/plain": [
              "<matplotlib.legend.Legend at 0x7f7379cf9da0>"
            ]
          },
          "metadata": {
            "tags": []
          },
          "execution_count": 24
        },
        {
          "output_type": "display_data",
          "data": {
            "image/png": "[encoded data removed]",
            "text/plain": [
              "<Figure size 432x288 with 1 Axes>"
            ]
          },
          "metadata": {
            "tags": []
          }
        }
      ]
    },
    {
      "cell_type": "code",
      "metadata": {
        "id": "-NlSbrKAi4ds",
        "colab_type": "code",
        "colab": {}
      },
      "source": [
        "#感知机的假设空间是定义在特征空间中的所以线性分类器的集合。\n",
        "#感知机的模型复杂度体现在计算w和x的内积上，样本数目和特征空间维数是决定模型复杂度的关键。"
      ],
      "execution_count": 0,
      "outputs": []
    },
    {
      "cell_type": "markdown",
      "metadata": {
        "id": "MPh3584iMNGu",
        "colab_type": "text"
      },
      "source": [
        "作业"
      ]
    },
    {
      "cell_type": "code",
      "metadata": {
        "id": "0cohIM9C65h8",
        "colab_type": "code",
        "colab": {}
      },
      "source": [
        "mydata = np.array([[3,3, 1],[4,3, 1],[1,1, -1]])\n",
        "X = mydata[:,:-1]\n",
        "y = mydata[:,-1]"
      ],
      "execution_count": 0,
      "outputs": []
    },
    {
      "cell_type": "code",
      "metadata": {
        "id": "J4TSS2Bp8qTL",
        "colab_type": "code",
        "colab": {}
      },
      "source": [
        "def plot1(model):\n",
        "    x_ponits = np.linspace(0, 7, 10)\n",
        "    y_ = -(model.w[0]*x_ponits + model.b)/(model.w[1] + 1e-10)\n",
        "    plt.plot(x_ponits, y_)\n",
        "\n",
        "    plt.plot(mydata[:2, 0], mydata[:2, 1], 'bo', color='blue', label='+1')\n",
        "    plt.plot(mydata[2:, 0], mydata[2:, 1], 'bo', color='orange', label='-1')\n",
        "    plt.legend()"
      ],
      "execution_count": 0,
      "outputs": []
    },
    {
      "cell_type": "code",
      "metadata": {
        "id": "-5iSkbZ97C9X",
        "colab_type": "code",
        "colab": {
          "base_uri": "https://localhost:8080/",
          "height": 35
        },
        "outputId": "f93e3190-4195-4114-e1e9-a75a4bcc9f8e"
      },
      "source": [
        "pla1 = PLA() # no shuffle\n",
        "pla1.fit(X, y)"
      ],
      "execution_count": 27,
      "outputs": [
        {
          "output_type": "stream",
          "text": [
            "finished at iters: 7, w: [0.3 0.3], b: -0.7\n"
          ],
          "name": "stdout"
        }
      ]
    },
    {
      "cell_type": "code",
      "metadata": {
        "id": "5_9lg9j-OcL2",
        "colab_type": "code",
        "colab": {
          "base_uri": "https://localhost:8080/",
          "height": 269
        },
        "outputId": "fd73c8b9-560d-41df-95ba-ee91a63cd447"
      },
      "source": [
        "plot1(pla1)"
      ],
      "execution_count": 31,
      "outputs": [
        {
          "output_type": "display_data",
          "data": {
            "image/png": "[encoded data removed]",
            "text/plain": [
              "<Figure size 432x288 with 1 Axes>"
            ]
          },
          "metadata": {
            "tags": []
          }
        }
      ]
    },
    {
      "cell_type": "code",
      "metadata": {
        "id": "8QgmQ74E7VRW",
        "colab_type": "code",
        "colab": {
          "base_uri": "https://localhost:8080/",
          "height": 35
        },
        "outputId": "d40f45b9-54e3-4c2a-e35a-7e7e0ff8e347"
      },
      "source": [
        "pla2 = PLA(shuffle = True) # shuffle\n",
        "pla2.fit(X, y)"
      ],
      "execution_count": 28,
      "outputs": [
        {
          "output_type": "stream",
          "text": [
            "finished at iters: 7, w: [0.3 0.3], b: -0.7\n"
          ],
          "name": "stdout"
        }
      ]
    },
    {
      "cell_type": "code",
      "metadata": {
        "id": "unMyRVjYPGMx",
        "colab_type": "code",
        "colab": {
          "base_uri": "https://localhost:8080/",
          "height": 269
        },
        "outputId": "f4b35d75-8e49-404b-8026-d90193cd788c"
      },
      "source": [
        "plot1(pla2)"
      ],
      "execution_count": 40,
      "outputs": [
        {
          "output_type": "display_data",
          "data": {
            "image/png": "[encoded data removed]",
            "text/plain": [
              "<Figure size 432x288 with 1 Axes>"
            ]
          },
          "metadata": {
            "tags": []
          }
        }
      ]
    },
    {
      "cell_type": "code",
      "metadata": {
        "id": "q3hSFFBSN89F",
        "colab_type": "code",
        "colab": {
          "base_uri": "https://localhost:8080/",
          "height": 35
        },
        "outputId": "1f237fd0-3534-4f27-b4af-67d5900c194b"
      },
      "source": [
        "pla0 = PLA_dual()\n",
        "pla0.fit(X,y)"
      ],
      "execution_count": 29,
      "outputs": [
        {
          "output_type": "stream",
          "text": [
            "finished at iters: 5, w: [0.1 0.1], b: -0.30000000000000004\n"
          ],
          "name": "stdout"
        }
      ]
    },
    {
      "cell_type": "code",
      "metadata": {
        "id": "Z4bL3-IuPIcV",
        "colab_type": "code",
        "colab": {
          "base_uri": "https://localhost:8080/",
          "height": 269
        },
        "outputId": "69f51e29-0e83-4352-943f-dfe426b0cc4a"
      },
      "source": [
        "plot1(pla0)"
      ],
      "execution_count": 41,
      "outputs": [
        {
          "output_type": "display_data",
          "data": {
            "image/png": "[encoded data removed]",
            "text/plain": [
              "<Figure size 432x288 with 1 Axes>"
            ]
          },
          "metadata": {
            "tags": []
          }
        }
      ]
    },
    {
      "cell_type": "code",
      "metadata": {
        "id": "dTKonSol-jsk",
        "colab_type": "code",
        "colab": {
          "base_uri": "https://localhost:8080/",
          "height": 89
        },
        "outputId": "2af024c9-67e8-4f44-947a-ef716ccdb62c"
      },
      "source": [
        "# scikit-learn\n",
        "pla3 = Perceptron()\n",
        "pla3.fit(X,y)"
      ],
      "execution_count": 33,
      "outputs": [
        {
          "output_type": "execute_result",
          "data": {
            "text/plain": [
              "Perceptron(alpha=0.0001, class_weight=None, early_stopping=False, eta0=1.0,\n",
              "           fit_intercept=True, max_iter=1000, n_iter_no_change=5, n_jobs=None,\n",
              "           penalty=None, random_state=0, shuffle=True, tol=0.001,\n",
              "           validation_fraction=0.1, verbose=0, warm_start=False)"
            ]
          },
          "metadata": {
            "tags": []
          },
          "execution_count": 33
        }
      ]
    },
    {
      "cell_type": "code",
      "metadata": {
        "id": "_FmsLs4y_7ND",
        "colab_type": "code",
        "colab": {
          "base_uri": "https://localhost:8080/",
          "height": 35
        },
        "outputId": "b4060663-fb02-431f-e705-011561618c94"
      },
      "source": [
        "pla3.coef_"
      ],
      "execution_count": 34,
      "outputs": [
        {
          "output_type": "execute_result",
          "data": {
            "text/plain": [
              "array([[1., 0.]])"
            ]
          },
          "metadata": {
            "tags": []
          },
          "execution_count": 34
        }
      ]
    },
    {
      "cell_type": "code",
      "metadata": {
        "id": "jVZWGawqAVGr",
        "colab_type": "code",
        "colab": {
          "base_uri": "https://localhost:8080/",
          "height": 35
        },
        "outputId": "dc3ec4bb-0b55-44bb-cacb-fce13b860918"
      },
      "source": [
        "pla3.intercept_"
      ],
      "execution_count": 35,
      "outputs": [
        {
          "output_type": "execute_result",
          "data": {
            "text/plain": [
              "array([-2.])"
            ]
          },
          "metadata": {
            "tags": []
          },
          "execution_count": 35
        }
      ]
    },
    {
      "cell_type": "code",
      "metadata": {
        "id": "0qRoaBt1BHig",
        "colab_type": "code",
        "colab": {
          "base_uri": "https://localhost:8080/",
          "height": 294
        },
        "outputId": "1f185dd5-c464-41a6-c3b9-60389e7e4541"
      },
      "source": [
        "x_ponits = np.linspace(0, 7, 10)\n",
        "y_ = -(pla3.coef_[0][0]*x_ponits + pla3.intercept_)/(pla3.coef_[0][1] + 1e-10)\n",
        "plt.plot(x_ponits, y_)\n",
        "\n",
        "plt.plot(mydata[:2, 0], mydata[:2, 1], 'bo', color='blue', label='+1')\n",
        "plt.plot(mydata[2:, 0], mydata[2:, 1], 'bo', color='orange', label='-1')\n",
        "plt.legend()"
      ],
      "execution_count": 36,
      "outputs": [
        {
          "output_type": "execute_result",
          "data": {
            "text/plain": [
              "<matplotlib.legend.Legend at 0x7f7379b622b0>"
            ]
          },
          "metadata": {
            "tags": []
          },
          "execution_count": 36
        },
        {
          "output_type": "display_data",
          "data": {
            "image/png": "[encoded data removed]",
            "text/plain": [
              "<Figure size 432x288 with 1 Axes>"
            ]
          },
          "metadata": {
            "tags": []
          }
        }
      ]
    },
    {
      "cell_type": "code",
      "metadata": {
        "id": "Lw4Bn8zZJylR",
        "colab_type": "code",
        "colab": {}
      },
      "source": [
        "from time import time\n",
        "lrs = np.arange(0.1, 1.0, 0.1)\n",
        "t = []\n",
        "for lr in lrs:\n",
        "    start = time()\n",
        "    pla = Perceptron(eta0 = lr)\n",
        "    pla.fit(X, y)\n",
        "    end = time()\n",
        "    t.append(end - start)"
      ],
      "execution_count": 0,
      "outputs": []
    },
    {
      "cell_type": "code",
      "metadata": {
        "id": "miizuAYYKElC",
        "colab_type": "code",
        "colab": {
          "base_uri": "https://localhost:8080/",
          "height": 179
        },
        "outputId": "02359b20-62fa-451a-961c-c47cd889955f"
      },
      "source": [
        "t"
      ],
      "execution_count": 38,
      "outputs": [
        {
          "output_type": "execute_result",
          "data": {
            "text/plain": [
              "[0.005453586578369141,\n",
              " 0.004275083541870117,\n",
              " 0.0010335445404052734,\n",
              " 0.0007185935974121094,\n",
              " 0.000614166259765625,\n",
              " 0.000614166259765625,\n",
              " 0.0004963874816894531,\n",
              " 0.00043654441833496094,\n",
              " 0.0004296302795410156]"
            ]
          },
          "metadata": {
            "tags": []
          },
          "execution_count": 38
        }
      ]
    },
    {
      "cell_type": "code",
      "metadata": {
        "id": "v8e5GRQTLMZJ",
        "colab_type": "code",
        "colab": {
          "base_uri": "https://localhost:8080/",
          "height": 299
        },
        "outputId": "90a569ea-0f6f-469c-c2a4-3bca60b7a5ea"
      },
      "source": [
        "plt.figure()\n",
        "plt.plot(lrs,t)\n",
        "plt.title('time cost with different lr')"
      ],
      "execution_count": 39,
      "outputs": [
        {
          "output_type": "execute_result",
          "data": {
            "text/plain": [
              "Text(0.5, 1.0, 'time cost with different lr')"
            ]
          },
          "metadata": {
            "tags": []
          },
          "execution_count": 39
        },
        {
          "output_type": "display_data",
          "data": {
            "image/png": "[encoded data removed]",
            "text/plain": [
              "<Figure size 432x288 with 1 Axes>"
            ]
          },
          "metadata": {
            "tags": []
          }
        }
      ]
    }
  ]
}